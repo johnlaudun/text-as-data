{
 "cells": [
  {
   "cell_type": "markdown",
   "metadata": {},
   "source": [
    "## 3-3 Getting at the Proper Nouns"
   ]
  },
  {
   "cell_type": "markdown",
   "metadata": {},
   "source": [
    "Now that we've had some experience with identifying parts of speech, let's move on to a more complex task: named entity recognition (NER). NER is the task of identifying and classifying named entities in text into predefined categories such as person names, organizations, locations, expressions of times, quantities, monetary values, percentages, etc.\n",
    "\n",
    "Please note that the custom tokenizer below is one we first used in Notebook 1-1. It has been modified however: it does not lowercase all the text. Experimentation showed that NLTK uses capitalization as a signal for named entities. (Let me emphasize the important of experimentation in text analytics: my first attempt at this notebook used a tokenizer that lowercased all text, and the results were not as good. I encourage you to experiment with different tokenizers and see how they affect the results of NER.)"
   ]
  },
  {
   "cell_type": "markdown",
   "metadata": {},
   "source": [
    "### Single Text Operations"
   ]
  },
  {
   "cell_type": "code",
   "execution_count": 42,
   "metadata": {},
   "outputs": [],
   "source": [
    "# IMPORTS\n",
    "import re\n",
    "import nltk\n",
    "from pathlib import Path\n",
    "\n",
    "# CUSTOM TOKENIZER \n",
    "# This function takes a string and returns a list of tokens\n",
    "# QUIZ COMMENT: Could this function be improved?\n",
    "def tknize (a_string):\n",
    "    words = re.sub('[^a-zA-Z \\.]', ' ', a_string).split()\n",
    "    return words\n",
    "\n",
    "# TEST DATA\n",
    "with open(\"../data/mdg.txt\", mode=\"r\", encoding=\"utf-8\") as f:\n",
    "    mdg = f.read()\n",
    "\n",
    "# SINGLE TEXT\n",
    "with open(\"../queue/scifi/alien.txt\", mode=\"r\", encoding=\"utf-8\") as f:\n",
    "    alien = f.read()"
   ]
  },
  {
   "cell_type": "code",
   "execution_count": 16,
   "metadata": {},
   "outputs": [
    {
     "name": "stdout",
     "output_type": "stream",
     "text": [
      "['Off', 'there', 'to', 'the', 'right']\n",
      "['Alien', 'early', 'draft', 'by', 'Dan']\n"
     ]
    }
   ],
   "source": [
    "# Test our tokenizer\n",
    "mdg_ = tknize(mdg)\n",
    "alien_ = tknize(alien)\n",
    "print(mdg_[0:5])\n",
    "print(alien_[0:5])"
   ]
  },
  {
   "cell_type": "code",
   "execution_count": 17,
   "metadata": {},
   "outputs": [
    {
     "data": {
      "text/plain": [
       "[('Off', 'IN'),\n",
       " ('there', 'EX'),\n",
       " ('to', 'TO'),\n",
       " ('the', 'DT'),\n",
       " ('right', 'NN'),\n",
       " ('somewhere', 'RB'),\n",
       " ('is', 'VBZ'),\n",
       " ('a', 'DT'),\n",
       " ('large', 'JJ'),\n",
       " ('island', 'NN')]"
      ]
     },
     "execution_count": 17,
     "metadata": {},
     "output_type": "execute_result"
    }
   ],
   "source": [
    "# mdg_ is our cleaned list of tokens which keeps only periods.\n",
    "mdg_tagged = nltk.pos_tag(mdg_)\n",
    "mdg_tagged[0:10]"
   ]
  },
  {
   "cell_type": "code",
   "execution_count": 18,
   "metadata": {},
   "outputs": [
    {
     "name": "stdout",
     "output_type": "stream",
     "text": [
      "large\n"
     ]
    }
   ],
   "source": [
    "for t in mdg_tagged[0:10]:\n",
    "    if t[1] == 'JJ':\n",
    "        print(t[0])"
   ]
  },
  {
   "cell_type": "code",
   "execution_count": 19,
   "metadata": {},
   "outputs": [
    {
     "name": "stdout",
     "output_type": "stream",
     "text": [
      "['Whitney.', 'Rainsford', 'Ship', 'Trap', 'Island', 'Whitney', 'A', 'Rainsford', 'Whitney', 'Caribbean', 'Rainsford.', 'Ugh', 'Rio', 'Whitney.', 'Purdey', 'Amazon.', 'Great', 'Rainsford.', 'Whitney.', 'Don', 'Whitney', 'Rainsford.', 'Who', 'Whitney.', 'Bah', 'Nonsense', 'Rainsford.', 'Whitney.', 'Be', 'Luckily', 'Do', 'Cannibals', 'Rainsford.', 'Hardly.', 'Even', 'God', 'Didn', 'Captain', 'Nielsen', 'Yes', 'Swede', 'Don', 'Pure', 'Rainsford.', 'One', 'Maybe.', 'Anyhow', 'Well', 'Rainsford.', 'Rainsford.', 'Good', 'Rainsford.', 'See', 'Right.', 'Good', 'Whitney.', 'Rainsford', 'Rainsford', 'Off', 'Again', 'Somewhere', 'Rainsford', 'Caribbean', 'Sea', 'A', 'Rainsford', 'Rainsford', 'Pistol', 'Rainsford', 'Ten', 'Jagged', 'Dense', 'Rainsford', 'Sleep', 'Rainsford', 'A', 'Rainsford', 'A', 'Bleak', 'Rainsford', 'Mirage', 'Rainsford.', 'Again', 'Rainsford', 'Rainsford', 'Rainsford', 'Rainsford', 'Rainsford', 'Out', 'Rainsford.', 'Don', 'Rainsford', 'My', 'Sanger', 'Rainsford', 'New', 'York', 'City.', 'Rainsford', 'Sanger', 'Rainsford', 'New', 'York', 'Rainsford', 'Rainsford', 'Rainsford', 'Mr.', 'Sanger', 'Rainsford', 'Rainsford', 'Tibet', 'Zaroff.', 'Rainsford', 'Rainsford', 'Ivan', 'A', 'Cossack', 'So', 'I.', 'Come', 'Ivan', 'Follow', 'Ivan', 'Mr.', 'Rainsford', 'Rainsford', 'Ivan', 'Rainsford', 'London', 'Ivan', 'Rainsford', 'Mr.', 'Rainsford', 'Rainsford', 'Half', 'General', 'Zaroff', 'Please', 'Rainsford.', '.the', 'Rainsford', 'Whenever', 'General', 'Zaroff', 'English', 'French', 'Russian.', 'Mr.', 'Rains.', 'Rainsford', 'Cape', 'Oh', 'Yes', 'Did', 'Fractured', 'Rains', 'Cape', 'Cape', 'Rainsford', 'Really', 'Oh', 'Rainsford', 'No', 'Mr.', 'Rainsford.', 'Rainsford.', 'May', 'Thank', 'God', 'Me', 'My', 'Crimea', 'Moscow', 'Caucasus', 'My', 'Cossack', 'Russia', 'Czar', 'Many', 'Monte', 'Carlo', 'Paris.', 'Naturally', 'Ganges', 'East', 'Africa.', 'Africa', 'Cape', 'Amazon', 'Cossack', 'Hunting', 'America', 'Yes', 'Rainsford.', 'Mr.', 'Rainsford.', 'Doubtless', 'No', 'General', 'Zaroff.', 'So', 'Mr.', 'Rainsford', 'Simply', 'Always.', 'No', 'Instinct', 'Rainsford', 'A', 'General', 'Zaroff', 'Oh', 'No', 'Every', 'Rainsford', 'So', 'Rainsford.', 'My', 'Rainsford.', 'General', 'Zaroff.', 'Hunting', 'Great', 'Guns', 'General', 'Zaroff', 'Rainsford', 'Did', 'Rainsford', 'Laughter', 'How', 'America', 'Ah', 'Puritan', 'Mr.', 'Rainsford.', 'Thank', 'Dear', 'Yes', 'Life', 'Rainsford', 'Precisely', 'Ship', 'Trap', 'Providence', 'Come', 'Rainsford', 'Watch', 'Out', 'Rainsford', 'Rainsford', 'Oh', 'Civilized', 'San', 'Lucar', 'Poor', 'Ivan', 'Turkish', 'Rainsford', 'Suppose', 'Oh', 'Ivan.', 'Ivan', 'Great', 'White', 'Czar', 'Invariably', 'Mr.', 'Rainsford', 'Mr.', 'Rainsford.', 'Many', 'Occasionally', 'Rainsford', 'Rainsford', 'A', 'Folies', 'Bergere.', 'Will', 'Rainsford', 'General', 'Zaroff.', 'Ah', 'Well', 'Tomorrow', 'Rainsford', 'Sorry', 'Mr.', 'Rainsford', 'Rainsford', 'Rainsford', 'General', 'Zaroff', 'Rainsford', 'Mr.', 'Rainsford.', 'Rainsford', 'Ennui.', 'Boredom.', 'Suzette', 'Chablis', 'Mr.', 'Rainsford', 'General', 'Rainsford', 'Rainsford.', 'General', 'Zaroff', 'Rainsford', 'Chablis', 'Tonight', 'I.', 'Rainsford', 'Ivan', 'Rainsford.', 'My', 'Rainsford', 'Outdoor', 'Rainsford', 'General', 'Zaroff.', 'My', 'Rainsford', 'Oh', 'Cossack.', 'Rainsford.', 'Oh', 'Three', 'Veuve', 'Cliquot', 'Ivan', 'Rainsford', 'Death', 'Swamp.', 'Lazarus', 'Mr.', 'Rainsford.', 'Lazarus', 'Well', 'Hunting', 'Au', 'Mr.', 'Rainsford', 'General', 'Zaroff', 'Ivan.', 'Rainsford', 'General', 'Zaroff', 'Rainsford', 'Night', 'A', 'Rest', 'General', 'Zaroff', 'Rainsford', 'Toward', 'Rainsford', 'Something', 'Rainsford', 'General', 'Zaroff.', 'Rainsford', 'Rainsford', 'Rainsford', 'Rainsford', 'Rainsford', 'Rainsford', 'Cossack', 'Rainsford', 'Rainsford', 'Cossack', 'Rainsford', 'Rainsford', 'General', 'Zaroff.', 'Nothing', 'So', 'Cossack', 'Rainsford', 'Rainsford', 'Rainsford', 'Malay', 'Luckily', 'Malacca.', 'Mr.', 'Rainsford.', 'Rainsford', 'Dusk', 'Death', 'Swamp', 'Rainsford', 'France', 'Rainsford', 'Rainsford', 'Three', 'Rainsford', 'Again', 'Mr.', 'Rainsford', 'Thank', 'Rainsford', 'Rainsford', 'Rainsford', 'General', 'Zaroff', 'Rainsford', 'Ivan', 'Rainsford', 'Ivan', 'Uganda.', 'Rainsford', 'Rainsford', 'Rainsford', 'General', 'Zaroff', 'Ivan', 'Rainsford', 'Nerve', 'A', 'Ever', 'Rainsford', 'Twenty', 'Rainsford', 'Cossack', 'Madame', 'Butterfly.', 'General', 'Zaroff', 'Pol', 'Roger', 'Chambertin.', 'Ivan', 'Marcus', 'Aurelius.', 'Better', 'A', 'Rainsford', 'How', 'God', 'Swam', 'Rainsford.', 'Rainsford', 'Get', 'General', 'Zaroff.', 'Splendid', 'Rainsford.', 'Rainsford']\n"
     ]
    }
   ],
   "source": [
    "# Let's find all the proper nouns:\n",
    "mdg_nouns = []\n",
    "for i in mdg_tagged:\n",
    "    if i[1] == \"NNP\":\n",
    "        mdg_nouns.append(i[0])\n",
    "\n",
    "print(mdg_nouns)"
   ]
  },
  {
   "cell_type": "code",
   "execution_count": 20,
   "metadata": {},
   "outputs": [],
   "source": [
    "def getPOS (POS, a_string):\n",
    "    \"\"\"\n",
    "    Takes a string and returns a list of tuples with the word \n",
    "    and its part of speech\n",
    "    \"\"\"\n",
    "    tokens = tknize(a_string)\n",
    "    tagged = nltk.pos_tag(tokens)\n",
    "    the_list = []\n",
    "    for i in tagged:\n",
    "        if i[1] == POS:\n",
    "            the_list.append(i[0])\n",
    "    return the_list"
   ]
  },
  {
   "cell_type": "code",
   "execution_count": null,
   "metadata": {},
   "outputs": [
    {
     "name": "stdout",
     "output_type": "stream",
     "text": [
      "['Whitney.', 'Rainsford', 'Ship', 'Trap', 'Island', 'Whitney', 'A', 'Rainsford', 'Whitney', 'Caribbean', 'Rainsford.', 'Ugh', 'Rio', 'Whitney.', 'Purdey', 'Amazon.', 'Great', 'Rainsford.', 'Whitney.', 'Don', 'Whitney', 'Rainsford.', 'Who', 'Whitney.', 'Bah', 'Nonsense', 'Rainsford.', 'Whitney.', 'Be', 'Luckily', 'Do', 'Cannibals', 'Rainsford.', 'Hardly.', 'Even', 'God', 'Didn', 'Captain', 'Nielsen', 'Yes', 'Swede', 'Don', 'Pure', 'Rainsford.', 'One', 'Maybe.', 'Anyhow', 'Well', 'Rainsford.', 'Rainsford.', 'Good', 'Rainsford.', 'See', 'Right.', 'Good', 'Whitney.', 'Rainsford', 'Rainsford', 'Off', 'Again', 'Somewhere', 'Rainsford', 'Caribbean', 'Sea', 'A', 'Rainsford', 'Rainsford', 'Pistol', 'Rainsford', 'Ten', 'Jagged', 'Dense', 'Rainsford', 'Sleep', 'Rainsford', 'A', 'Rainsford', 'A', 'Bleak', 'Rainsford', 'Mirage', 'Rainsford.', 'Again', 'Rainsford', 'Rainsford', 'Rainsford', 'Rainsford', 'Rainsford', 'Out', 'Rainsford.', 'Don', 'Rainsford', 'My', 'Sanger', 'Rainsford', 'New', 'York', 'City.', 'Rainsford', 'Sanger', 'Rainsford', 'New', 'York', 'Rainsford', 'Rainsford', 'Rainsford', 'Mr.', 'Sanger', 'Rainsford', 'Rainsford', 'Tibet', 'Zaroff.', 'Rainsford', 'Rainsford', 'Ivan', 'A', 'Cossack', 'So', 'I.', 'Come', 'Ivan', 'Follow', 'Ivan', 'Mr.', 'Rainsford', 'Rainsford', 'Ivan', 'Rainsford', 'London', 'Ivan', 'Rainsford', 'Mr.', 'Rainsford', 'Rainsford', 'Half', 'General', 'Zaroff', 'Please', 'Rainsford.', '.the', 'Rainsford', 'Whenever', 'General', 'Zaroff', 'English', 'French', 'Russian.', 'Mr.', 'Rains.', 'Rainsford', 'Cape', 'Oh', 'Yes', 'Did', 'Fractured', 'Rains', 'Cape', 'Cape', 'Rainsford', 'Really', 'Oh', 'Rainsford', 'No', 'Mr.', 'Rainsford.', 'Rainsford.', 'May', 'Thank', 'God', 'Me', 'My', 'Crimea', 'Moscow', 'Caucasus', 'My', 'Cossack', 'Russia', 'Czar', 'Many', 'Monte', 'Carlo', 'Paris.', 'Naturally', 'Ganges', 'East', 'Africa.', 'Africa', 'Cape', 'Amazon', 'Cossack', 'Hunting', 'America', 'Yes', 'Rainsford.', 'Mr.', 'Rainsford.', 'Doubtless', 'No', 'General', 'Zaroff.', 'So', 'Mr.', 'Rainsford', 'Simply', 'Always.', 'No', 'Instinct', 'Rainsford', 'A', 'General', 'Zaroff', 'Oh', 'No', 'Every', 'Rainsford', 'So', 'Rainsford.', 'My', 'Rainsford.', 'General', 'Zaroff.', 'Hunting', 'Great', 'Guns', 'General', 'Zaroff', 'Rainsford', 'Did', 'Rainsford', 'Laughter', 'How', 'America', 'Ah', 'Puritan', 'Mr.', 'Rainsford.', 'Thank', 'Dear', 'Yes', 'Life', 'Rainsford', 'Precisely', 'Ship', 'Trap', 'Providence', 'Come', 'Rainsford', 'Watch', 'Out', 'Rainsford', 'Rainsford', 'Oh', 'Civilized', 'San', 'Lucar', 'Poor', 'Ivan', 'Turkish', 'Rainsford', 'Suppose', 'Oh', 'Ivan.', 'Ivan', 'Great', 'White', 'Czar', 'Invariably', 'Mr.', 'Rainsford', 'Mr.', 'Rainsford.', 'Many', 'Occasionally', 'Rainsford', 'Rainsford', 'A', 'Folies', 'Bergere.', 'Will', 'Rainsford', 'General', 'Zaroff.', 'Ah', 'Well', 'Tomorrow', 'Rainsford', 'Sorry', 'Mr.', 'Rainsford', 'Rainsford', 'Rainsford', 'General', 'Zaroff', 'Rainsford', 'Mr.', 'Rainsford.', 'Rainsford', 'Ennui.', 'Boredom.', 'Suzette', 'Chablis', 'Mr.', 'Rainsford', 'General', 'Rainsford', 'Rainsford.', 'General', 'Zaroff', 'Rainsford', 'Chablis', 'Tonight', 'I.', 'Rainsford', 'Ivan', 'Rainsford.', 'My', 'Rainsford', 'Outdoor', 'Rainsford', 'General', 'Zaroff.', 'My', 'Rainsford', 'Oh', 'Cossack.', 'Rainsford.', 'Oh', 'Three', 'Veuve', 'Cliquot', 'Ivan', 'Rainsford', 'Death', 'Swamp.', 'Lazarus', 'Mr.', 'Rainsford.', 'Lazarus', 'Well', 'Hunting', 'Au', 'Mr.', 'Rainsford', 'General', 'Zaroff', 'Ivan.', 'Rainsford', 'General', 'Zaroff', 'Rainsford', 'Night', 'A', 'Rest', 'General', 'Zaroff', 'Rainsford', 'Toward', 'Rainsford', 'Something', 'Rainsford', 'General', 'Zaroff.', 'Rainsford', 'Rainsford', 'Rainsford', 'Rainsford', 'Rainsford', 'Rainsford', 'Cossack', 'Rainsford', 'Rainsford', 'Cossack', 'Rainsford', 'Rainsford', 'General', 'Zaroff.', 'Nothing', 'So', 'Cossack', 'Rainsford', 'Rainsford', 'Rainsford', 'Malay', 'Luckily', 'Malacca.', 'Mr.', 'Rainsford.', 'Rainsford', 'Dusk', 'Death', 'Swamp', 'Rainsford', 'France', 'Rainsford', 'Rainsford', 'Three', 'Rainsford', 'Again', 'Mr.', 'Rainsford', 'Thank', 'Rainsford', 'Rainsford', 'Rainsford', 'General', 'Zaroff', 'Rainsford', 'Ivan', 'Rainsford', 'Ivan', 'Uganda.', 'Rainsford', 'Rainsford', 'Rainsford', 'General', 'Zaroff', 'Ivan', 'Rainsford', 'Nerve', 'A', 'Ever', 'Rainsford', 'Twenty', 'Rainsford', 'Cossack', 'Madame', 'Butterfly.', 'General', 'Zaroff', 'Pol', 'Roger', 'Chambertin.', 'Ivan', 'Marcus', 'Aurelius.', 'Better', 'A', 'Rainsford', 'How', 'God', 'Swam', 'Rainsford.', 'Rainsford', 'Get', 'General', 'Zaroff.', 'Splendid', 'Rainsford.', 'Rainsford']\n"
     ]
    }
   ],
   "source": [
    "# Test on toy data\n",
    "nouns = getPOS(\"NNP\", mdg)\n",
    "print(nouns)"
   ]
  },
  {
   "cell_type": "code",
   "execution_count": 41,
   "metadata": {},
   "outputs": [
    {
     "name": "stdout",
     "output_type": "stream",
     "text": [
      "['Alien', 'Dan', 'O', 'Bannon', 'ALIEN', 'STARBEAST', 'Story', 'Dan', 'O', 'Bannon', 'Ronald', 'Shusett', 'Screenplay', 'Dan', 'O', 'Bannon', 'SYNOPSIS', 'En', 'SNARK', 'Mankind', 'Their', 'Inside', 'Certain', 'Beneath', 'A', 'Hell', 'A', 'Finally', 'Earth', 'CAST', 'OF', 'CHARACTERS', 'CHAZ', 'STANDARD', 'Captain.................A', 'MARTIN', 'ROBY', 'Executive', 'Officer.......Cautious', 'DELL', 'BROUSSARD', 'Navigator...............Adventurer', 'SANDY', 'MELKONIS', 'Communications..........Tech', 'Intellectual', 'CLEAVE', 'HUNTER', 'Mining', 'Engineer.........High', 'JAY', 'FAUST', 'Engine', 'Tech.............A', 'Unimaginative.', 'FADE', 'IN', 'EXTREME', 'CLOSEUPS', 'OF', 'FLICKERING', 'INSTRUMENT', 'PANELS.', 'Readouts', 'Electronic', 'BEEPING', 'SIGNAL', 'Circuits', 'CAMERA', 'ANGLES', 'GRADUALLY', 'WIDEN', 'HYPERSLEEP', 'VAULT', 'A', 'FREEZER', 'COMPARTMENTS', 'FOOM', 'FOOM', 'FOOM', 'Slowly', 'ROBY', 'Oh...', 'God...', 'BROUSSARD', 'ROBY', 'BROUSSARD', 'FAUST', 'BROUSSARD', 'MELKONIS', 'BROUSSARD', 'HUNTER', 'STANDARD', 'Hunter.', 'HUNTER', 'Boy', 'STANDARD', 'Well', 'FAUST', 'Cold', 'LAUGH.', 'STANDARD', 'Okay', 'Everybody', 'Let', 'MELKONIS', 'Somebody', 'Roby', 'INTERIOR', 'CONTROL', 'ROOM', 'STANDARD', 'ROBY', 'BROUSSARD', 'MELKONIS', 'BROUSSARD', 'ROBY', 'Cattle', 'BROUSSARD', 'Look', 'STANDARD', 'All', 'ROBY', 'Right.', 'Fire', 'STANDARD', 'Sandy', 'MELKONIS', 'Feast', 'Melkonis', 'BLACKNESS', 'SPECKLED', 'WITH', 'STARS.', 'BROUSSARD', 'Irth', 'STANDARD', 'Sandy', 'Melkonis', 'CAMERA', 'MOVES', 'IN', 'ON', 'ONE', 'THE', 'SCREENS', 'EXTERIOR', 'OUTER', 'SPACE', 'CLOSE', 'SHOT', 'A', 'PANNING', 'CAMERA.', 'CAMERA', 'BEGINS', 'TO', 'PULL', 'BACK', 'HULL', 'OF', 'SOME', 'KIND', 'OF', 'CRAFT.', 'WE', 'THE', 'FULL', 'LENGTH', 'THE', 'STARSHIP', 'SNARK', 'INTERIOR', 'BRIDGE', 'ROBY', 'Where', 'STANDARD', 'Sandy', 'Melkonis', 'MELKONIS', 'SNARK', 'E', 'Antarctica', 'Do', 'Over.', 'HISS', 'OF', 'STATIC.', 'BROUSSARD', 'STANDARD', 'Dell', 'Broussard', 'BROUSSARD', 'Oh', 'STANDARD', 'Where', 'BROUSSARD', 'Just', 'Zeta', 'II', 'Reticuli.', 'ROBY', 'Standard', 'STANDARD', 'Chaz', 'Sorry', 'Irth.', 'Remain', 'ROBY', 'Chaz', 'A', 'STANDARD', 'Let', 'ROBY', 'Computer', 'COMPUTER', 'ROBY', 'COMPUTER', 'STANDARD', 'Computer', 'Captain', 'Standard.', 'COMPUTER', 'STANDARD', 'A', 'COMPUTER', 'A', 'MELKONIS', 'Out', 'COMPUTER', 'STANDARD', 'Play', 'THEN', 'A', 'STRANGE', 'UNEARTHLY', 'VOICE', 'FILLS', 'THE', 'ROOM', 'SPEAKING', 'AN', 'ALIEN', 'LANGUAGE', 'STANDARD', 'Computer', 'COMPUTER', 'Unknown.', 'ROBY', 'Unknown', 'COMPUTER', 'EVERYBODY', 'STARTS', 'TALKING', 'AT', 'THE', 'SAME', 'TIME.', 'STANDARD', 'Computer', 'COMPUTER', 'Yes.', 'Number', 'Number', 'ROBY', 'Oh', 'God.', 'STANDARD', 'Well', 'MELKONIS', 'First', 'STANDARD', 'Sandy', 'MELKONIS', 'STANDARD', 'Computer', 'COMPUTER', 'Melkonis', 'MELKONIS', 'STANDARD', 'Dell', 'BROUSSARD', 'Broussard', 'BROUSSARD', 'CONT', 'D', 'Let', 'STANDARD', 'Can', 'BROUSSARD', 'PLANET', 'APPEARS.', 'BROUSSARD', 'CONT', 'D', 'Planetoid.', 'Diameter', 'MELKONIS', 'STANDARD', 'Any', 'BROUSSARD', 'Yeah.', 'STANDARD', 'Gravity', 'BROUSSARD', 'Point', 'Standard', 'STANDARD', 'Martin', 'INTERIOR', 'MULTI', 'PURPOSE', 'ROOM', 'STANDARD', 'ROBY', 'BROUSSARD', 'MELKONIS', 'HUNTER', 'FAUST', 'Standard', 'MELKONIS', 'S.O.S.', 'BROUSSARD', 'Right.', 'HUNTER', 'Seems', 'BROUSSARD', 'Forget', 'BROUSSARD', 'Hell', 'ROBY', 'Hell', 'STANDARD', 'Don', 'Colonies', 'Martin.', 'BROUSSARD', 'MELKONIS', 'Men', 'ROBY', 'Look', 'STANDARD', 'Martin.', 'Gentlemen', 'INTERIOR', 'BRIDGE', 'STANDARD', 'Dell', 'BROUSSARD', 'ZOOMS', 'DOWN', 'TOWARD', 'THE', 'PLANET', 'STANDARD', 'ROBY', 'No', 'Cloud', 'MELKONIS', 'My', 'God', 'ROBY', 'Just', 'STANDARD', 'Put', 'EXTERIOR', 'SNARK', 'OUTER', 'SPACE', 'SNARK', 'INTERIOR', 'BRIDGE', 'STANDARD', 'Dell', 'EXTERIOR', 'SPACE', 'SNARK', 'CAMERA', 'APPROACHES', 'THE', 'PLANETOID', 'SNARK', 'INTERIOR', 'BRIDGE', 'STANDARD', 'Activate', 'BROUSSARD', 'Activated.', 'Vertical', 'Correcting', 'Entering', 'EXTERIOR', 'SNARK', 'IN', 'ORBIT', 'Beneath', 'SNARK', 'Descending', 'SNARK', 'INTERIOR', 'BRIDGE', 'ROBY', 'Atmospheric', 'Dust', 'STANDARD', 'Turn', 'EXTERIOR', 'SNARK', 'Hydroplaning', 'INTERIOR', 'BRIDGE', 'BROUSSARD', 'Approaching', 'Ten.', 'Five.', 'Gentlemen', 'STANDARD', 'BROUSSARD', 'Well', 'Radar', 'Sonar', 'Infrared', 'Let', 'There.', 'Flat.', 'A', 'STANDARD', 'BROUSSARD', 'Rock.', 'STANDARD', 'BROUSSARD', 'Drop', 'Fifteen', 'Five.', 'Three.', 'Two.', 'One', 'Lock', 'ELECTRICAL', 'HUM', 'ROBY', 'Locked.', 'BROUSSARD', 'Kill', 'ROBY', 'Engines', 'BROUSSARD', 'Nine', 'Hang', 'EXTERIOR', 'SURFACE', 'OF', 'PLANET', 'NIGHT', 'SNARK', 'INTERIOR', 'BRIDGE', 'BROUSSARD', 'EXTERIOR', 'SURFACE', 'OF', 'PLANET', 'NIGHT', 'INTERIOR', 'BRIDGE', 'VIBRATES', 'VIOLENTLY', 'FOR', 'AN', 'INSTANT', 'LIGHT', 'S', 'GO', 'OUT.', 'BROUSSARD', 'Jesus', 'Christ', 'STANDARD', 'ROBY', 'Engine', 'FAUST', 'Just', 'ROBY', 'Has', 'BROUSSARD', 'Uh...', 'No', 'FAUST', 'Martin', 'Jay.', 'STANDARD', 'How', 'ROBY', 'How', 'FAUST', 'Hard', 'ROBY', 'Well', 'FAUST', 'Right.', 'Talk', 'STANDARD', 'Let', 'Turn', 'Melkonis', 'BROUSSARD', 'EXTERIOR', 'SHIP', 'NIGHT', 'THE', 'WIND', 'MOANS', 'AND', 'SCREAMS.', 'DUST', 'BLOWS', 'IN', 'FRONT', 'THE', 'TINY', 'GLIMMERING', 'LIGHTS.', 'INTERIOR', 'BRIDGE', 'NIGHT', 'STANDARD', 'Kick', 'EXTERIOR', 'SHIP', 'NIGHT', 'A', 'FLOODLIGHTS', 'INTERIOR', 'BRIDGE', 'NIGHT', 'ROBY', 'Standard', 'STANDARD', 'Well', 'How', 'MELKONIS', 'BROUSSARD', 'Good', 'Maybe', 'ROBY', 'Or', 'DISSOLVE', 'TO', 'EXTERIOR', 'SHIP', 'NIGHT', 'MAIN', 'TITLE', 'SEQUENCE', 'SNARK', 'MAIN', 'THEME', 'MUSIC', 'BEGINS', 'EXTREMELY', 'OMINOUS.', 'THE', 'TITLE', 'APPEARS', 'ALIEN', 'RUN', 'TITLES.', 'Gradually', 'SUN', 'SNARK', 'Dense', 'END', 'MAIN', 'TITLES.', 'INTERIOR', 'BRIDGE', 'DAY', 'CLOSE', 'ON', 'A', 'SCREEN', 'PULL', 'BACK', 'FROM', 'SCREEN.', 'Standard', 'Roby', 'Broussard', 'Melkonis', 'ROBY', 'BROUSSARD', 'STANDARD', 'Just', 'Sandy', 'MELKONIS', 'Sorry.', 'BROUSSARD', 'Are', 'Roby', 'Broussard', 'ROBY', 'Hello', 'Faust', 'FAUST', 'Yeah', 'ROBY', 'How', 'INTERIOR', 'ENGINE', 'ROOM', 'Faust', 'FAUST', 'Okay', 'INTERIOR', 'BRIDGE', 'DAY', 'ROBY', 'Yeah', 'STANDARD', 'Sandy...', 'MELKONIS', 'Source', 'ROBY', 'Close...', 'BROUSSARD', 'Close', 'STANDARD', 'Martin', 'ROBY', 'STANDARD', 'Nontoxic...', 'Pressure', 'ROBY', 'Ten', 'STANDARD', 'Good', 'Moisture', 'ROBY', 'Zero.', 'Dry', 'STANDARD', 'Any', 'ROBY', 'STANDARD', 'Anything', 'ROBY', 'Yeah', 'Dust.', 'STANDARD', 'Well', 'Sandy', 'MELKONIS', 'No', 'BROUSSARD', 'STANDARD', 'INTERIOR', 'MAIN', 'ARM', 'LOCK', 'DAY', 'Standard', 'Broussard', 'Melkonis', 'Broussard', 'STANDARD', 'BROUSSARD', 'Receiving.', 'MELKONIS', 'Receiving.', 'STANDARD', 'All', 'Martin', 'INTERIOR', 'BRIDGE', 'DAY', 'ROBY', 'Read', 'Chaz.', 'INTERIOR', 'MAIN', 'AIR', 'LOCK', 'DAY', 'STANDARD', 'Open', 'Ponderously', 'ORANGE', 'SUNLIGHT', 'THE', 'WIND', 'OUTSIDE.', 'A', 'Standard', 'EXTERIOR', 'PLANETOID', 'DAY', 'Their', 'STANDARD', 'Which', 'Sandy', 'Melkonis', 'MELKONIS', 'STANDARD', 'Melkonis', 'STANDARD', 'Okay', 'Martin.', 'INTERIOR', 'BRIDGE', 'DAY', 'Roby', 'ROBY', 'Okay', 'Chaz', 'STANDARD', 'Good.', 'Let', 'EXTERIOR', 'PLANETOID', 'DAY', 'Melkonis', 'STANDARD', 'CONT', 'D', 'Can', 'Melkonis.', 'STANDARD', 'CONT', 'D', 'MELKONIS', 'My', 'INTERIOR', 'BRIDGE', 'DAY', 'Roby', 'MELKONIS', 'CONT', 'D', 'NOT', 'NOTICE', 'HUNTER', 'COMING', 'UP', 'BEHIND', 'HIM.', 'MELKONIS', 'CONT', 'D', 'DIRECTLY', 'BEHIND', 'ROBY', 'Hunter', 'HUNTER', 'Roby', 'GASPS', 'Hunter.', 'ROBY', 'Hell', 'Hunter', 'Roby', 'EXTERIOR', 'PLANETOID', 'DAY', 'Melkonis', 'MELKONIS', 'STANDARD', 'How', 'MELKONIS', 'Broussard', 'Standard', 'REVERSE', 'ANGLE', 'THEIR', 'POINT', 'OF', 'VIEW', 'HUGE', 'SHAPE.', 'REVEALING', 'A', 'GROTESQUE', 'SHIP', 'RISING', 'THE', 'SHIP', 'LIKE', 'SOME', 'GIGANTIC', 'TOADSTOOL.', 'ANGLE', 'ON', 'THE', 'MEN', 'Finally', 'Standard', 'STANDARD', 'Martin', 'ROBY', 'Found', 'INTERIOR', 'BRIDGE', 'DAY', 'STANDARD', 'CONT', 'D', 'No', 'Roby', 'Hunter', 'STANDARD', 'CONT', 'D', 'EXTERIOR', 'BASE', 'OF', 'TOADSTOOL', 'SHIP', 'DAY', 'A', 'DOOR', 'Dust', 'STANDARD', 'CONT', 'D', 'Appears', 'BROUSSARD', 'Looks', 'STANDARD', 'Martin', 'INTERIOR', 'ALIEN', 'SHIP', 'DAY', 'Standard', 'Broussard', 'Melkonis', 'DATASTICKS', 'MELKONIS', 'Air', 'STANDARD', 'Who', 'BROUSSARD', 'Let', 'FULL', 'OF', 'HUGE', 'IRREGULAR', 'HOLES.', 'MELKONIS', 'Look', 'Swiss', 'Broussard', 'BROUSSARD', 'STANDARD', 'Climbing', 'Standard', 'CLUNK', 'BROUSSARD', 'STANDARD', 'No', 'Standard', 'Broussard', 'INTERIOR', 'CONTROL', 'ROOM', 'OF', 'ALIEN', 'SHIP', 'Broussard', 'Standard', 'Broussard', 'Melkonis', 'THEIR', 'LIGHTS', 'SCAN', 'THE', 'ROOM.', 'Broussard', 'Broussard', 'Melkonis', 'Their', 'A', 'HUGE', 'ALIEN', 'SKELETON', 'SEATED', 'IN', 'THE', 'CONTROL', 'CHAIR.', 'IT', 'A', 'GROTESQUE', 'THING', 'BEARING', 'NO', 'RESEMBLANCE', 'TO', 'THE', 'HUMAN', 'FORM.', 'MELKONIS', 'Holy', 'Christ...', 'Standard', 'STANDARD', 'Look', 'STANDARD', 'CONT', 'D', 'Something', 'See', 'Traced', 'Hearing', 'Broussard', 'THAT', 'MOVES.', 'Melkonis', 'MELKONIS', 'LOOK', 'IT', 'MOVED', 'Standard', 'STANDARD', 'Keep', 'Standard', 'STANDARD', 'CONT', 'D', 'Just', 'BROUSSARD', 'Melkonis', 'MELKONIS', 'That', 'UNEARTHLY', 'VOICE', 'BROUSSARD', 'A', 'A', 'EXTERIOR', 'PLANETOID', 'SUNSET', 'SINISTER', 'ANGLE', 'ON', 'THE', 'SNARK.', 'INTERIOR', 'MULTI', 'PURPOSE', 'ROOM', 'Standard', 'STANDARD', 'STANDARD', 'CONT', 'D', 'SKELETON', 'STANDARD', 'CONT', 'D', 'STANDARD', 'CONT', 'D', 'Standard', 'STANDARD', 'CONT', 'D', 'HUNTER', 'Phenomenal.', 'Staggering.', 'BROUSSARD', 'MELKONIS', 'Written', 'Roby', 'STANDARD', 'Martin', 'ROBY', 'STANDARD', 'ROBY', 'BROUSSARD', 'Hell', 'Maybe', 'FAUST', 'ROBY', 'FAUST', 'ROBY', 'Roby', 'CAMERA', 'MOVES', 'OVER', 'TO', 'REVEAL', 'THE', 'ALIEN', 'SKULL', 'SITTING', 'ON', 'A', 'TABLE.', 'ROBY', 'CONT', 'D', 'STANDARD', 'Jay...', 'FAUST', 'Well...', 'STANDARD', 'FAUST', 'Oh', 'STANDARD', 'FAUST', 'Right.', 'Roby', 'Melkonis', 'MELKONIS', 'EXTERIOR', 'SHIP', 'NIGHT', 'ANGLE', 'ON', 'THE', 'SHIP', 'INTERIOR', 'ENGINE', 'ROOM', 'A', 'Faust', 'FAUST', 'INTERIOR', 'BRIDGE', 'NIGHT', 'Broussard', 'Melkonis', 'Faust', 'BROUSSARD', 'Sure', 'INTERIOR', 'ENGINE', 'ROOM', 'FAUST', 'Okay.', 'INTERIOR', 'MULTI', 'PURPOSE', 'ROOM', 'Roby', 'Standard', 'STANDARD', 'Alas', 'Yorick.', 'Roby', 'STARTS', 'Standard', 'STANDARD', 'CONT', 'D', 'Find', 'ROBY', 'STANDARD', 'ROBY', 'Oh', 'STANDARD', 'Martin.', 'Roby', 'CRUDELY', 'DRAWN', 'TRIANGLE', 'ON', 'THE', 'ALIEN', 'CONTROL', 'PANEL.', 'ROBY', 'STANDARD', 'Well...', 'ROBY', 'Roby', 'ROBY', 'CONT', 'D', 'STANDARD', 'Tell', 'Martin.', 'BEEP', 'Standard.', 'STANDARD', 'CONT', 'D', 'Chaz.', 'BROUSSARD', 'Chaz', 'Dell.', 'Can', 'STANDARD', 'BROUSSARD', 'Well', 'STANDARD', 'Roby', 'INTERIOR', 'BRIDGE', 'DAY', 'Broussard', 'Standard', 'Roby', 'STANDARD', 'BROUSSARD', 'EXTERIOR', 'SHIP', 'DAY', 'INTERIOR', 'BRIDGE', 'DAY', 'BROUSSARD', 'Look', 'STANDARD', 'BLIP', 'Broussard', 'TAPERING', 'STONE', 'PYRAMID', 'PYRAMID', 'IS', 'INSTANTLY', 'SUGGESTIVE', 'THE', 'SCRAWLED', 'TRIANGLE', 'Standard', 'STANDARD', 'Chaz.', 'All', 'Now.', 'INTERIOR', 'BRIDGE', 'DAY', 'A', 'LITTLE', 'LATER', 'ANGLE', 'ON', 'A', 'VIEWSCREEN.', 'PYRAMID', 'CAMERA', 'PULLS', 'BACK', 'STANDARD', 'Doesn', 'MELKONIS', 'BROUSSARD', 'Maybe', 'FAUST', 'BROUSSARD', 'HUNTER', 'BROUSSARD', 'Maybe', 'MELKONIS', 'DUST', 'ROBY', 'EXTERIOR', 'SHIP', 'DAY', 'WITH', 'A', 'SHRIEK', 'THE', 'DUST', 'STORM', 'RETURNS', 'SNARK.', 'INTERIOR', 'BRIDGE', 'DAY', 'STANDARD', 'Well', 'Martin', 'Everyone', 'STANDARD', 'CONT', 'D', 'EXTERIOR', 'PLANETOID', 'DAY', 'LONG', 'SHOT', 'THE', 'STONE', 'PYRAMID', 'Standard', 'Broussard', 'Melkonis', 'STANDARD', 'INTERIOR', 'BRIDGE', 'DAY', 'Roby', 'Hunter', 'Standard', 'VOICE', 'ON', 'THE', 'RADIO.', 'STANDARD', 'CONT', 'D', 'BUZZZZZ', 'Standard', 'BY', 'STATIC.', 'ROBY', 'HUNTER', 'ROBY', 'Can', 'HUNTER', 'EXTERIOR', 'BASE', 'OF', 'PYRAMID', 'DAY', 'Dust', 'MELKONIS', 'STANDARD', 'Can', 'BROUSSARD', 'MELKONIS', 'Maybe', 'STANDARD', 'Maybe', 'INTERIOR', 'BRIDGE', 'DAY', 'ROBY', 'Well', 'INTERCOM', 'BEEPS.', 'Faust', 'FAUST', 'Sorry', 'ROBY', 'Yeah', 'A', 'LOUD', 'POWERFUL', 'THROBBING', 'BEGINS', 'A', 'Roby', 'COMPUTER', 'ALERT.', 'Irritably', 'Roby', 'ROBY', 'CONT', 'D', 'Yes', 'COMPUTER', 'ROBY', 'Hold', 'ROBY', 'CONT', 'D', 'Go', 'PAUSE', 'Roby', 'ROBY', 'CONT', 'D', 'PAUSE', 'ROBY', 'CONT', 'D', 'Well', 'PAUSE.', 'Roby', 'TO', 'THE', 'BONE.', 'THE', 'ENGINES', 'SHUT', 'OFF', 'A', 'RINGING', 'SILENCE.', 'HUNTER', 'Roby', 'ROBY', 'EXTERIOR', 'BASE', 'OF', 'PYRAMID', 'DAY', 'BROUSSARD', 'Maybe', 'STANDARD', 'BROUSSARD', 'Sure.', 'Broussard', 'BROUSSARD', 'CONT', 'D', 'Broussard', 'OMINOUS', 'ANGLES', 'Broussard', 'EXTERIOR', 'TOP', 'OF', 'PYRAMID', 'DAY', 'Broussard', 'BROUSSARD', 'EXTERIOR', 'BASE', 'OF', 'PYRAMID', 'DAY', 'STANDARD', 'BROUSSARD', 'No', 'STANDARD', 'EXTERIOR', 'TOP', 'OF', 'PYRAMID', 'DAY', 'Broussard', 'BROUSSARD', 'Smooth', 'INTERIOR', 'BRIDGE', 'DAY', 'Faust', 'FAUST', 'Yes', 'ROBY', 'Jay', 'FAUST', 'ROBY', 'FAUST', 'ROBY', 'HOSTILE...', 'SURVIVAL...', 'ADVISE', 'DO', 'NOT', 'LAND...', 'EXTERIOR', 'TOP', 'OF', 'PYRAMID', 'DAY', 'Hanging', 'Broussard', 'STANDARD', 'Dell', 'BROUSSARD', 'No', 'EXTERIOR', 'BASE', 'OF', 'PYRAMID', 'DAY', 'Standard', 'Melkonis', 'STANDARD', 'Okay', 'Dell', 'Don', 'EXTERIOR', 'TOP', 'OF', 'PYRAMID', 'DAY', 'BROUSSARD', 'Right.', 'Broussard', 'BROUSSARD', 'CONT', 'D', 'Okay', 'STANDARD', 'Take', 'Broussard', 'INTERIOR', 'PYRAMID', 'DAY', 'Bracing', 'Broussard', 'BROUSSARD', 'Warm', 'Standard', 'STANDARD', 'Are', 'BROUSSARD', 'Yeah', 'Haven', 'STANDARD', 'Dell', 'BROUSSARD', 'Yeah', 'Can', 'BROUSSARD', 'CONT', 'D', 'EXTERIOR', 'BASE', 'OF', 'PYRAMID', 'DAY', 'STANDARD', 'MELKONIS', 'INTERIOR', 'BRIDGE', 'DAY', 'Roby', 'Hunter.', 'HUNTER', 'ROBY', 'HUNTER', 'ROBY', 'HUNTER', 'ROBY', 'Chaz', 'HUNTER', 'ROBY', 'Just', 'Chaz', 'INTERIOR', 'PYRAMID', 'DAY', 'Broussard', 'SUDDENLY', 'HIS', 'FEET', 'LOSE', 'THEIR', 'PURCHASE', 'THE', 'WALLS', 'THE', 'SHAFT', 'DISAPPEAR.', 'BROUSSARD', 'Tunnel', 'Finally', 'INTERIOR', 'TOMB', 'DAY', 'Broussard', 'Around', 'STRANGE', 'HEIROGLYPHICS', 'Row', 'Huge', 'Spaced', 'Hey', 'Do', 'Standard', 'Annoyed', 'Broussard', 'EXTERIOR', 'BASE', 'OF', 'PYRAMID', 'LATE', 'AFTERNOON', 'Standard', 'Melkonis', 'STANDARD', 'MELKONIS', 'Sun', 'INTERIOR', 'TOMB', 'LATE', 'AFTERNOON', 'Face', 'Broussard', 'ROWS', 'OF', 'LEATHERY', 'URNS', 'OR', 'JARS', 'EXACTLY', 'THE', 'ONE', 'BROUSSARD', 'STUMBLED', 'ACROSS', 'IN', 'THE', 'ALIEN', 'SHIP', 'THESE', 'ARE', 'ALL', 'SEALED.', 'BROUSSARD', 'BROUSSARD', 'CONT', 'D', 'EXTERIOR', 'BASE', 'OF', 'PYRAMID', 'DAY', 'THE', 'SUN', 'DROPS', 'THE', 'HORIZON', 'Standard', 'Melkonis', 'STANDARD', 'Let', 'INTERIOR', 'TOMB', 'NIGHT', 'Broussard', 'BUT', 'NOW', 'THERE', 'IN', 'THE', 'TOP', 'OF', 'IT.', 'WITH', 'SHOCKING', 'VIOLENCE', 'A', 'SMALL', 'OCTOPUS', 'LIKE', 'THING', 'LEAPS', 'OUT', 'AND', 'ATTACHES', 'ITSELF', 'TO', 'HIS', 'FACE', 'WRAPPING', 'ITS', 'TENTACLES', 'AROUND', 'HIS', 'HEAD.', 'MUFFLED', 'SCREAM', 'EXTERIOR', 'TOP', 'OF', 'PYRAMID', 'NIGHT', 'Standard', 'Melkonis', 'STANDARD', 'MELKONIS', 'STANDARD', 'MELKONIS', 'Maybe', 'Standard', 'STANDARD', 'No', 'Let', 'Standard', 'Broussard', 'STANDARD', 'CONT', 'D', 'Christ', 'TIGHTENS', 'WITH', 'A', 'JERK', 'STANDARD', 'CONT', 'D', 'MELKONIS', 'STANDARD', 'No', 'MELKONIS', 'Standard', 'STANDARD', 'No', 'Standard', 'STANDARD', 'CONT', 'D', 'LABOR', 'HEAVILY.', 'STANDARD', 'CONT', 'D', 'Get', 'Broussard', 'Standard', 'RECOILS', 'SHARPLY.', 'STANDARD', 'CONT', 'D', 'Look', 'Melkonis', 'MELKONIS', 'STANDARD', 'Don', 'Broussard.', 'THE', 'OCTOPUS', 'THING', 'IS', 'STILL', 'WRAPPED', 'AROUND', 'HIS', 'FACE', 'MOTIONLESS.', 'MELKONIS', 'Oh', 'God', 'God', 'STANDARD', 'Help', 'Standard', 'Broussard', 'STANDARD', 'CONT', 'D', 'MELKONIS', 'STANDARD', 'Come', 'Broussard', 'INTERIOR', 'BRIDGE', 'NIGHT', 'Roby', 'Hunter', 'HUNTER', 'ROBY', 'How', 'HUNTER', 'Three', 'Roby', 'ROBY', 'Hey', 'STANDARD', 'Yeah', 'ROBY', 'Thank', 'Christ', 'STANDARD', 'Can', 'Broussard', 'Roby', 'ROBY', 'Oh', 'HUNTER', 'Jay', 'Cleave', 'Meet', 'Hunter', 'Roby', 'CAMERA', 'MOVES', 'IN', 'ON', 'HIS', 'FACE.', 'INTERIOR', 'CORRIDOR', 'OUTSIDE', 'AIR', 'LOCK', 'NIGHT', 'Hunter', 'HUNTER', 'Martin', 'INTERIOR', 'BRIDGE', 'NIGHT', 'ROBY', 'Right.', 'INTERIOR', 'CORRIDOR', 'OUTSIDE', 'AIR', 'LOCK', 'NIGHT', 'Faust', 'FAUST', 'HUNTER', 'Don', 'Broussard', 'FAUST', 'Hurt', 'How', 'HUNTER', 'Don', 'INTERIOR', 'BRIDGE', 'NIGHT', 'Roby', 'Standard', 'Melkonis.', 'STANDARD', 'Martin', 'Roby', 'ROBY', 'Chaz.', 'STANDARD', 'ROBY', 'Chaz', 'Broussard', 'STANDARD', 'Roby', 'STANDARD', 'CONT', 'D', 'Martin', 'Open', 'ROBY', 'Chaz', 'STANDARD', 'ROBY', 'Chaz', 'STANDARD', 'Martin', 'Open', 'Roby', 'INTERIOR', 'CORRIDOR', 'OUTSIDE', 'AIR', 'LOCK', 'NIGHT', 'A', 'RED', 'LIGHT', 'CLUNK.', 'HUNTER', 'Outer', 'CLUNK.', 'Standard', 'Melkonis', 'Broussard.', 'A', 'STANDARD', 'Hunter', 'Faust', 'RECOIL.', 'HUNTER', 'Oh', 'God', 'FAUST', 'STANDARD', 'Give', 'Autodoc.', 'Hunter', 'Faust', 'INTERIOR', 'INFIRMARY', 'Broussard.', 'Revealed', 'STANDARD', 'Help', 'HUNTER', 'God', 'Standard', 'STANDARD', 'CONT', 'D', 'Medical', 'Gingerly', 'Broussard.', 'Standard', 'Broussard', 'STANDARD', 'CONT', 'D', 'FAUST', 'Faust', 'STANDARD', 'Faust', 'Broussard', 'MELKONIS', 'STANDARD', 'Let', 'Broussard', 'Standard', 'Broussard', 'A', 'X', 'ROBY', 'APPEARS', 'IN', 'THE', 'DOORWAY.', 'Standard', 'STANDARD', 'STEPS', 'FORWARD', 'AND', 'SLAPS', 'ROBY', 'ACROSS', 'THE', 'FACE.', 'HUNTER', 'Hey', 'STANDARD', 'Ask', 'ROBY', 'STANDARD', 'Good.', 'MELKONIS', 'HUNTER', 'Yeah...', 'Maybe', 'FAUST', 'Faust', 'HUNTER', 'ROBY', 'Standard', 'Let', 'Roby', 'Standard', 'ROBY', 'CONT', 'D', 'Would', 'STANDARD', 'HUNTER', 'Where', 'MELKONIS', 'HUNTER', 'How', 'MELKONIS', 'Blood', 'HUNTER', 'Yeah', 'STANDARD', 'Let', 'Standard', 'X', 'Broussard', 'HEAD', 'AND', 'UPPER', 'TORSO.', 'Broussard', 'X', 'X', 'Broussard', 'THE', 'PARASITE', 'HAS', 'EXTRUDED', 'SOME', 'KIND', 'OF', 'LONG', 'TUBE', 'WHICH', 'IS', 'STUFFED', 'INTO', 'HIS', 'MOUTH', 'AND', 'DOWN', 'HIS', 'THROAT', 'ROBY', 'Look', 'HUNTER', 'ROBY', 'HUNTER', 'Oh...', 'God...', 'Hunter', 'RETCHES.', 'ROBY', 'HUNTER', 'MELKONIS', 'HUNTER', 'Well', 'MELKONIS', 'HUNTER', 'How', 'STANDARD', 'Standard', 'Broussard', 'STANDARD', 'CONT', 'D', 'Somebody', 'Melkonis', 'Standard.', 'Clumsily', 'Standard', 'Standard', 'Roby', 'Standard', 'Carefully', 'Broussard', 'STANDARD', 'CONT', 'D', 'Broussard', 'Instantly', 'STANDARD', 'CONT', 'D', 'REACT', 'COUGH.', 'MELKONIS', 'God', 'HUNTER', 'Standard', 'Standard', 'Frantically', 'Standard', 'INTERIOR', 'CORRIDOR', 'OUTSIDE', 'INFIRMARY', 'STANDARD', 'That', 'Standard', 'INTERIOR', 'CORRIDORS', 'IN', 'SHIP', 'Followed', 'Standard', 'STANDARD', 'MELKONIS', 'Jesus', 'Standard', 'Hunter', 'INTERIOR', 'LEVEL', 'BELOW', 'Standard', 'Hunter', 'STANDARD', 'There.', 'HUNTER', 'Careful', 'INTERIOR', 'LEVEL', 'ABOVE', 'Roby', 'Melkonis', 'MELKONIS', 'Christ', 'Roby', 'ROBY', 'Seems', 'Hunter', 'HUNTER', 'ROBY', 'Hunter', 'Roby', 'MELKONIS', 'HUNTER', 'MELKONIS', 'Hell', 'Standard', 'STANDARD', 'MELKONIS', 'Yes', 'STANDARD', 'MELKONIS', 'ROBY', 'My', 'God', 'Broussard', 'INTERIOR', 'INFIRMARY', 'Roby', 'Broussard', 'Did', 'Standard', 'Broussard', 'STANDARD', 'No', 'God...', 'MELKONIS', 'STANDARD', 'HUNTER', 'MELKONIS', 'Isn', 'STANDARD', 'Standard', 'Broussard', 'Broussard', 'STANDARD', 'CONT', 'D', 'God', 'Standard', 'Broussard', 'ROBY', 'X', 'Broussard', 'MELKONIS', 'ROBY', 'MELKONIS', 'Could', 'HUNTER', 'ROBY', 'Hey', 'STANDARD', 'ROBY', 'Broussard', 'INTERIOR', 'MULTI', 'PURPOSE', 'ROOM', 'Again', 'Standard', 'Roby', 'Melkonis', 'Hunter', 'Broussard', 'CREATURE', 'LEAPS', 'OUT', 'THE', 'URN', 'TOWARD', 'THE', 'CAMERA', 'HUNTER', 'ROBY', 'MELKONIS', 'CLICKETYCLICKETYCLICK', 'Melkonis', 'STANDARD', 'CLICK.', 'CLICK.', 'Melkonis', 'MELKONIS', 'HUNTER', 'STANDARD', 'That', 'MELKONIS', 'Primitive', 'ROBY', 'HUNTER', 'Listen', 'Broussard', 'STANDARD', 'HUNTER', 'INTERIOR', 'CORRIDOR', 'OUTSIDE', 'INFIRMARY', 'Standard', 'Hunter', 'STANDARD', 'HUNTER', 'STANDARD', 'Well', 'HUNTER', 'How', 'STANDARD', 'Maybe', 'INTERIOR', 'INFIRMARY', 'Hunter', 'THERE', 'A', 'LONG', 'HORRIFIED', 'PAUSE.', 'HUNTER', 'Broussard', 'THE', 'PARASITE', 'IS', 'GONE', 'FROM', 'HIS', 'FACE.', 'Broussard', 'HIS', 'FACE', 'IS', 'COVERED', 'WITH', 'SUCKER', 'MARKS.', 'HUNTER', 'STANDARD', 'Hunter', 'Standard', 'STANDARD', 'CONT', 'D', 'No', 'HUNTER', 'Well', 'STANDARD', 'Maybe', 'Standard', 'STANDARD', 'CONT', 'D', 'As', 'Tray', 'Standard', 'WE', 'TENTACLE', 'THE', 'THING', 'VIBRATING', 'ON', 'A', 'LEDGE', 'JUST', 'ABOVE', 'STANDARD.', 'HIS', 'SHOULDER', 'BRUSHES', 'THE', 'TENTACLE.', 'THE', 'PARASITE', 'DROPS', 'TO', 'THE', 'FLOOR.', 'STANDARD', 'Shit', 'Standard', 'STANDARD', 'CONT', 'D', 'INTERIOR', 'LABORATORY', 'Standard', 'Roby', 'Melkonis', 'Standard', 'STANDARD', 'Look', 'ROBY', 'MELKONIS', 'Standard', 'Carefully', 'ROBY', 'Ugh.', 'Suddenly', 'FALL', 'APART', 'IN', 'THE', 'PLIERS.', 'STANDARD', 'Quick', 'SMOKE', 'AND', 'BUBBLE.', 'Roby', 'Standard', 'STANDARD', 'CONT', 'D', 'Christ', 'Let', 'INTERIOR', 'CORRIDORS', 'IN', 'SHIP', 'Standard', 'INTERIOR', 'CORRIDOR', 'OUTSIDE', 'AIR', 'LOCK', 'Roby', 'Standard', 'Roby', 'ROBY', 'Chrissake', 'INTERIOR', 'AIR', 'LOCK', 'DAY', 'Roby', 'Orange', 'Standard', 'HURLS', 'THE', 'CARCASS', 'OUT', 'EXTERIOR', 'BASE', 'OF', 'SHIP', 'DAY', 'INTERIOR', 'AIR', 'LOCK', 'DAY', 'ROBY', 'My', 'God', 'Melkonis', 'Standard', 'INTERIOR', 'CORRIDOR', 'OUTSIDE', 'AIR', 'LOCK', 'HUNTER', 'Yes', 'STANDARD', 'How', 'Broussard', 'HUNTER', 'STANDARD', 'HUNTER', 'Yes.', 'STANDARD', 'Can', 'HUNTER', 'STANDARD', 'Good.', 'STANDARD', 'CONT', 'D', 'INTERIOR', 'MULTI', 'PURPOSE', 'ROOM', 'Roby', 'Melkonis', 'Standard', 'MELKONIS', 'ROBY', 'STANDARD', 'Martin.', 'ROBY', 'Look', 'STANDARD', 'Faust', 'ROBY', 'MELKONIS', 'ROBY', 'Yeah', 'MELKONIS', 'CHILLY', 'SILENCE.', 'ROBY', 'Where', 'STANDARD', 'MELKONIS', 'ROBY', 'Couldn', 'STANDARD', 'Too', 'Iron', 'Age', 'MELKONIS', 'God', 'ROBY', 'Faust', 'FAUST', 'Hey', 'STANDARD', 'FAUST', 'EXTERIOR', 'PLANETOID', 'DAY', 'SNARK', 'ROAR', 'BEGIN', 'TO', 'BELCH', 'OUT', 'STREAMS', 'OF', 'SUPERHEATED', 'AIR', 'INTERIOR', 'BRIDGE', 'DAY', 'STANDARD', 'Switch', 'ELECTRICAL', 'HUM', 'STANDARD', 'CONT', 'D', 'Lock', 'STANDARD', 'CONT', 'D', 'Retract', 'EXTERIOR', 'SHIP', 'DAY', 'INTERIOR', 'BRIDGE', 'DAY', 'STANDARD', 'Take', 'ROBY', 'Up', 'Jay.', 'EXTERIOR', 'PLANETOID', 'DAY', 'SNARK', 'INTERIOR', 'BRIDGE', 'DAY', 'STANDARD', 'Switch', 'POWERFUL', 'DEEP', 'THROBBING', 'BEGINS.', 'THE', 'SHIP', 'VIBRATES.', 'EXTERIOR', 'SNARK', 'DAY', 'SNARK', 'INTERIOR', 'BRIDGE', 'DAY', 'STANDARD', 'Engage', 'Roby', 'LURCHES.', 'ROBY', 'Engaged.', 'STANDARD', 'Let', 'ROBY', 'A', 'HUGE', 'TREMOR', 'RUNS', 'THROUGHOUT', 'THE', 'SHIP.', 'ROBY', 'MELKONIS', 'THE', 'COMMUNICATOR', 'BEEPS.', 'FAUST', 'STANDARD', 'Just', 'EXTERIOR', 'SKY', 'DAY', 'SNARK', 'Visibility', 'INTERIOR', 'ENGINE', 'ROOM', 'Faust', 'INTERIOR', 'BRIDGE', 'DAY', 'ANOTHER', 'TREMOR', 'SHUDDERS', 'THE', 'SHIP.', 'EXTERIOR', 'SHIP', 'DAY', 'Abruptly', 'CLEARS', 'THE', 'TOP', 'THE', 'CLOUD', 'LAYER', 'AND', 'BURSTS', 'OUT', 'INTO', 'STAR', 'SPRINKLED', 'SPACE', 'INTERIOR', 'BRIDGE', 'OUTER', 'SPACE', 'CHEER.', 'ROBY', 'Damn', 'STANDARD', 'Martin', 'Irth', 'ROBY', 'Roby', 'MELKONIS', 'Hell.', 'DISSOLVE', 'TO', 'EXTERIOR', 'SHIP', 'AT', 'LIGHT', 'SPEED', 'LATER', 'INTERIOR', 'BRIDGE', 'OUTER', 'SPACE', 'ROBY', 'STANDARD', 'Quit', 'INTERIOR', 'CORRIDOR', 'STANDARD', 'Broussard', 'Colonies.', 'ROBY', 'STANDARD', 'That', 'INTERIOR', 'INFIRMARY', 'THEY', 'ARE', 'SHOCKED', 'TO', 'SEE', 'BROUSSARD', 'SITTING', 'UP', 'BED', 'AWAKE.', 'BROUSSARD', 'Mouth', 'Roby', 'Broussard', 'BROUSSARD', 'CONT', 'D', 'More.', 'Roby', 'Broussard', 'STANDARD', 'Dell', 'BROUSSARD', 'Wretched.', 'STANDARD', 'Don', 'BROUSSARD', 'Don', 'Can', 'ROBY', 'Are', 'BROUSSARD', 'Melkonis', 'Broussard', 'STANDARD', 'Hell', 'BROUSSARD', 'God', 'ROBY', 'Dell', 'BROUSSARD', 'ROBY', 'Do', 'BROUSSARD', 'Just', 'STANDARD', 'MELKONIS', 'BROUSSARD', 'STANDARD', 'INTERIOR', 'MULTI', 'PURPOSE', 'ROOM', 'HUNTER', 'Boy', 'Any', 'FAUST', 'Well', 'CHUCKLE.', 'MELKONIS', 'Snark', 'Log.', 'STANDARD', 'MELKONIS', 'Maybe', 'ROBY', 'First', 'MELKONIS', 'ROBY', 'STANDARD', 'Oh', 'FAUST', 'ROBY', 'FAUST', 'ROBY', 'FAUST', 'Yes', 'ROBY', 'HUNTER', 'Do', 'BROUSSARD', 'GRIMACES', 'AND', 'GROANS.', 'STANDARD', 'BROUSSARD', 'CRAMPS', 'GROAN', 'STANDARD', 'Breathe', 'BROUSSARD', 'OH', 'GOD', 'IT', 'HURTS', 'SO', 'BAD', 'ROBY', 'Dell', 'Broussard', 'BROUSSARD', 'OhmygooaaAA', 'AHHHHH', 'A', 'RED', 'SMEAR', 'OF', 'BLOOD', 'BLOSSOMS', 'ON', 'THE', 'CHEST', 'OF', 'BROUSSARD', 'S', 'TUNIC.', 'THEIR', 'EYES', 'ARE', 'ALL', 'RIVETTED', 'TO', 'BROUSSARD', 'S', 'CHEST', 'THE', 'FABRIC', 'OF', 'HIS', 'TUNIC', 'IS', 'RIPPED', 'OPEN', 'A', 'HORRIBLE', 'NASTY', 'LITTLE', 'HEAD', 'THE', 'SIZE', 'A', 'MAN', 'S', 'FIST', 'PUSHES', 'OUT.', 'Everybody', 'SCREAMS', 'Broussard', 'Broussard', 'HUNTER', 'Oh', 'Oh', 'FAUST', 'MELKONIS', 'Slowly', 'Broussard', 'ROBY', 'EXTERIOR', 'SHIP', 'OUTER', 'SPACE', 'A', 'Broussard', 'AN', 'ELECTRONIC', 'BASS', 'DRUM', 'BEATS', 'A', 'DIRGE', 'Broussard', 'INTERIOR', 'CORRIDORS', 'MELKONIS', 'HUNTER', 'ROBY', 'FAUST', 'Shit...', 'STANDARD', 'MELKONIS', 'Well', 'STANDARD', 'HUNTER', 'FAUST', 'ROBY', 'STANDARD', 'All', 'ROBY', 'INTERIOR', 'BRIDGE', 'STANDARD', 'So', 'FAUST', 'STANDARD', 'No', 'MELKONIS', 'How', 'STANDARD', 'Room', 'No', 'MELKONIS', 'STANDARD', 'FAUST', 'ROBY', 'HUNTER', 'A', 'STANDARD', 'Good.', 'Get', 'Let', 'EXTERIOR', 'OUTER', 'SPACE', 'SNARK', 'INTERIOR', 'CORRIDORS', 'IN', 'SHIP', 'Standard', 'Standard', 'INTERIOR', 'VENTRAL', 'OBSERVATION', 'DOME', 'VIEW', 'OF', 'OUTER', 'SPACE', 'Melkonis', 'Standard', 'A', 'STANDARD', 'MELKONIS', 'Water', 'STANDARD', 'MELKONIS', 'Can', 'Halfway', 'Creation...', 'STANDARD', 'A', 'MELKONIS', 'Time', 'STANDARD', 'MELKONIS', 'STANDARD', 'Come', 'INTERIOR', 'BRIDGE', 'Faust', 'Hunter', 'HUNTER', 'A', 'FAUST', 'Might', 'STANDARD', 'HUNTER', 'Don', 'STANDARD', 'How', 'FAUST', 'FAUST', 'CONT', 'D', 'Tracking', 'Standard', 'STANDARD', 'All', 'Whoever', 'ROBY', 'Even', 'Standard', 'STANDARD', 'Faust', 'FAUST', 'STANDARD', 'All', 'Roby', 'Melkonis', 'Faust.', 'Hunter', 'STANDARD', 'CONT', 'D', 'INTERIOR', 'CORRIDORS', 'IN', 'SHIP', 'Melkonis', 'Roby', 'Faust', 'FAUST', 'Nothing', 'INTERIOR', 'OTHER', 'CORRIDORS', 'Standard', 'Hunter', 'Standard', 'INTERIOR', 'CORRIDORS', 'Roby', 'FAUST', 'Hold', 'Faust', 'BEEPING', 'FAUST', 'CONT', 'D', 'ROBY', 'Where', 'FAUST', 'Machine', 'Needle', 'MELKONIS', 'Faust', 'FAUST', 'No', 'INTERIOR', 'MAINTENANCE', 'LEVEL', 'Roby', 'Melkonis', 'Faust', 'ROBY', 'Okay.', 'FAUST', 'ROBY', 'FAUST', 'Bulbs', 'CAMERA', 'FOLLOWS', 'THEM', 'A', 'COUPLE', 'OF', 'TURNINGS', 'AND', 'THEN', 'FAUST', 'CONT', 'D', 'Hold', 'FAUST', 'CONT', 'D', 'Roby', 'Melkonis', 'Faust', 'Faust', 'WITH', 'A', 'NERVE', 'SHATTERING', 'SQUALL', 'A', 'SMALL', 'CREATURE', 'COMES', 'FLYING', 'OUT', 'THE', 'CABINET', 'EYES', 'GLARING', 'CLAWS', 'FLASHING.', 'Instinctively', 'ROBY', 'IT', 'THE', 'CAT.', 'Hissing', 'MELKONIS', 'Roby', 'COMMUNICATOR', 'BEEPS.', 'ROBY', 'Yes', 'STANDARD', 'ROBY', 'Where', 'STANDARD', 'Food', 'ROBY', 'INTERIOR', 'CORRIDORS', 'IN', 'SHIP', 'Roby', 'Faust', 'Melkonis', 'INTERIOR', 'CORRIDOR', 'OUTSIDE', 'FOOD', 'STORAGE', 'ROOM', 'Standard', 'Hunter', 'HUNTER', 'CRASHING', 'BANGING', 'ROBY', 'STANDARD', 'ROBY', 'STANDARD', 'HUNTER', 'CRASHING', 'AROUND', 'INSIDE.', 'STANDARD', 'FAUST', 'Well', 'HUNTER', 'Maybe', 'Irth.', 'STANDARD', 'Don', 'FAUST', 'ROBY', 'Hey', 'STANDARD', 'ROBY', 'FAUST', 'Somebody', 'INTERIOR', 'CORRIDOR', 'OUTSIDE', 'FOOD', 'LOCKER', 'LATER', 'CAMERA', 'PULLS', 'BACK', 'TO', 'REVEAL', 'STANDARD', 'Get', 'ROBY', 'STANDARD', 'Go', 'Jay.', 'Faust', 'THE', 'CRASHING', 'NOISES', 'RISE', 'IN', 'CRESCENDO', 'THE', 'THING', 'CAN', 'BE', 'HEARD', 'SCREECHING', 'AND', 'SQUEALING.', 'STANDARD', 'CONT', 'D', 'Shut', 'Faust', 'ROBY', 'STANDARD', 'Standard', 'A', 'INTERIOR', 'FOOD', 'STORAGE', 'ROOM', 'FAUST', 'Looks', 'Carefully', 'Hunter', 'HUNTER', 'God', 'A', 'VENTILATOR', 'GRILL', 'HAS', 'BEEN', 'RIPPED', 'OPEN.', 'HUNTER', 'CONT', 'D', 'ROBY', 'Where', 'FAUST', 'All', 'STANDARD', 'HUNTER', 'INTERIOR', 'BRIDGE', 'FAUST', 'HUNTER', 'STANDARD', 'FAUST', 'Poison', 'HUNTER', 'STANDARD', 'ROBY', 'Are', 'STANDARD', 'FAUST', 'How', 'MELKONIS', 'So', 'STANDARD', 'HUNTER', 'Sounds', 'STANDARD', 'Got', 'Hunter', 'ROBY', 'STANDARD', 'Let', 'STANDARD', 'CONT', 'D', 'Martin', 'Roby', 'Melkonis', 'Again', 'Standard', 'Hunter', 'STANDARD', 'CONT', 'D', 'Open', 'Cleave.', 'INTERIOR', 'FOOD', 'STORAGE', 'ROOM', 'Hunter', 'Faust', 'Finally', 'Faust', 'FAUST', 'Well', 'HUNTER', 'Right.', 'Hunter', 'INTERIOR', 'AIR', 'SHAFT', 'Hunter', 'HUNTER', 'Hey', 'INTERIOR', 'CLIMATE', 'CONTROL', 'ROOM', 'Standard', 'Melkonis', 'Roby', 'Large', 'STANDARD', 'Yeah', 'INTERIOR', 'AIR', 'SHAFT', 'HUNTER', 'Okay', 'THE', 'TRACKER', 'SUDDENLY', 'BEEPS.', 'Hunter', 'FIRES', 'A', 'BLAST', 'INTO', 'THE', 'DARKNESS.', 'Smoke', 'INTERIOR', 'CLIMATE', 'CONTROL', 'ROOM', 'Roby', 'ROBY', 'There.', 'ROBY', 'CONT', 'D', 'That', 'STANDARD', 'Right', 'Melkonis', 'MELKONIS', 'Hunter...', 'STANDARD', 'Are', 'MELKONIS', 'STANDARD', 'Let', 'INTERIOR', 'AIR', 'SHAFT', 'Hunter', 'Up', 'BEEPING', 'LIKE', 'CRAZY.', 'Frantically', 'CRY', 'INTERIOR', 'CLIMATE', 'CONTROL', 'ROOM', 'Melkonis', 'MELKONIS', 'STANDARD', 'All', 'Okay', 'MELKONIS', 'Okay.', 'STANDARD', 'Roby', 'ROBY', 'Uh', 'INTERIOR', 'AIR', 'SHAFT', 'Hunter', 'HUNTER', 'Hey', 'CLIMATE', 'CONTROL', 'ROOM', 'STANDARD', 'Yes', 'INTERIOR', 'AIR', 'SHAFT', 'HUNTER', 'INTERIOR', 'CLIMATE', 'CONTROL', 'ROOM', 'STANDARD', 'Okay', 'INTERIOR', 'AIR', 'SHAFT', 'HUNTER', 'Good.', 'INTERIOR', 'CLIMATE', 'CONTROL', 'ROOM', 'STANDARD', 'Okay', 'Roby', 'Melkonis', 'STANDARD', 'CONT', 'D', 'Open', 'Sandy.', 'Melkonis', 'A', 'SIX', 'FOOT', 'MONSTROSITY', 'STANDS', 'IN', 'THE', 'OPENING.', 'GHASTLY', 'BEYOND', 'IMAGINATION', 'SQUAMOUS', 'COVERED', 'WITH', 'TENTACLES', 'IT', 'HOPS', 'DOWN', 'LIKE', 'AN', 'OVER', 'SIZED', 'BIRD', 'AND', 'GRABS', 'MELKONIS', 'IN', 'RAZOR', 'SHARP', 'TENTACLES.', 'Melkonis', 'TWISTS', 'IT', 'OFF', 'LIKE', 'A', 'MAN', 'PULLING', 'THE', 'HEAD', 'OFF', 'A', 'CHICKEN', 'THEN', 'THROWS', 'IT', 'TO', 'THE', 'FLOOR', 'WITH', 'AN', 'AUDIBLE', 'CLUNK', 'CLUTCHING', 'MELKONIS', 'BODY', 'TIGHTLY', 'AGAINST', 'ITSELF', 'IT', 'TURNS', 'AND', 'BOUNDS', 'DOWN', 'THE', 'HALL.', 'MELKONIS', 'HEADLESS', 'BODY', 'IS', 'STILL', 'KICKING', 'AND', 'STRUGGLING', 'THE', 'MONSTER', 'LEAPS', 'HEAD', 'FIRST', 'INTO', 'ANOTHER', 'AIR', 'SHAFT.', 'Standard', 'Roby', 'Hunter', 'HUNTER', 'Where', 'STANDARD', 'How', 'HUNTER', 'Where', 'Melkonis', 'INTERIOR', 'FOOD', 'STORAGE', 'ROOM', 'Faust', 'FAUST', 'Hey', 'STANDARD', 'Meet', 'Be', 'FAUST', 'Right.', 'Faust', 'INTERIOR', 'CORRIDORS', 'Standard', 'Roby', 'Hunter', 'HUNTER', 'INTERIOR', 'BRIDGE', 'Standard', 'Roby', 'Hunter', 'Faust', 'FAUST', 'Where', 'Sandy', 'ROBY', 'Dead.', 'FAUST', 'Dead', 'ROBY', 'FAUST', 'STANDARD', 'HUNTER', 'ROBY', 'STANDARD', 'ROBY', 'Nothing.', 'HUNTER', 'Listen', 'STANDARD', 'That', 'HUNTER', 'Thing', 'FAUST', 'STANDARD', 'No', 'FAUST', 'ROBY', 'Don', 'HUNTER', 'STANDARD', 'All', 'FAUST', 'Right.', 'STANDARD', 'Faust', 'ROBY', 'Roby', 'ROBY', 'CONT', 'D', 'STANDARD', 'Well...', 'ROBY', 'HUNTER', 'Recognizable', 'ROBY', 'HUNTER', 'Well...', 'Broussard.', 'ROBY', 'STANDARD', 'That', 'ROBY', 'HUNTER', 'ROBY', 'STANDARD', 'HUNTER', 'Broussard', 'ROBY', 'STANDARD', 'Which', 'ROBY', 'INTERIOR', 'CORRIDOR', 'OUTSIDE', 'AIR', 'LOCK', 'Faust', 'DOOR', 'LEADING', 'TO', 'THE', 'LOWER', 'DECKS', 'HAS', 'BEEN', 'WRENCHED', 'OFF', 'ITS', 'HINGES.', 'THE', 'DIRECTION', 'THE', 'AIR', 'LOCK...', 'THE', 'INNER', 'LOCK', 'DOOR', 'IS', 'OPEN.', 'Faust', 'INTERIOR', 'AIR', 'LOCK', 'Faust.', 'INTERIOR', 'CORRIDOR', 'OUTSIDE', 'AIR', 'LOCK', 'Stealthfully', 'Faust', 'FAUST', 'INTERIOR', 'BRIDGE', 'Standard', 'Roby', 'Hunter', 'Faust', 'Standard', 'mid', 'STANDARD', 'INTERIOR', 'CORRIDOR', 'OUTSIDE', 'AIR', 'LOCK', 'FAUST', 'INTERIOR', 'BRIDGE', 'Standard', 'THROWS', 'THE', 'SWITCH.', 'INTERIOR', 'AIR', 'LOCK', 'INSTANTANEOUSLY', 'LEAPS', 'OUT', 'THE', 'LOCK.', 'INTERIOR', 'CORRIDOR', 'OUTSIDE', 'AIR', 'LOCK', 'DEALS', 'FAUST', 'A', 'BACK', 'HANDED', 'BLOW', 'KNOCKING', 'HIM', 'ACROSS', 'THE', 'THRESHOLD', 'THE', 'AIR', 'LOCK', 'DOOR.', 'FAUST', 'SCREAMS', 'IN', 'MORTAL', 'AGONY', 'THE', 'INNER', 'DOOR', 'CLOSES', 'ON', 'HIS', 'WAIST', 'INNER', 'DOOR', 'CLOSED', 'INTERIOR', 'AIR', 'LOCK', 'Faust', 'THE', 'OUTER', 'DOOR', 'BEGINS', 'TO', 'SLIDE', 'OPEN.', 'IMMEDIATELY', 'THERE', 'TREMENDOUS', 'SCREAM', 'ESCAPING', 'AIR.', 'EXTERIOR', 'SHIP', 'OUTER', 'SPACE', 'INTERIOR', 'BRIDGE', 'INSTANTLY', 'A', 'TREMENDOUS', 'WINDSTORM', 'STARTS', 'UP', 'A', 'SIREN', 'BEGINS', 'TO', 'SOUND', 'AND', 'A', 'RED', 'LIGHT', 'FLASHES', 'CRITICAL', 'DEPRESSURIZATION', 'Roby', 'INTERIOR', 'CORRIDORS', 'Loose', 'Roby', 'EXTERIOR', 'SHIP', 'OUTER', 'SPACE', 'A', 'INTERIOR', 'CORRIDORS', 'Whipped', 'Roby', 'HE', 'CREATURE', 'SCURRYING', 'AWAY', 'DOWN', 'ANOTHER', 'CORRIDOR.', 'INTERIOR', 'CORRIDOR', 'OUTSIDE', 'AIR', 'LOCK', 'Roby', 'WHISTLE.', 'Instantly', 'Roby', 'THE', 'CURRENT', 'DECREASES', 'THEN', 'IS', 'FINALLY', 'CUT', 'OFF', 'HE', 'SEALS', 'IT.', 'Done', 'THE', 'SOUND', 'LEVEL', 'IN', 'THE', 'SHIP', 'IS', 'VERY', 'ODD', 'THIN', 'DISTANT', 'ALMOST', 'INAUDIBLE.', 'Roby', 'INTERIOR', 'CORRIDORS', 'Standard', 'Hunter', 'Standard', 'INTERIOR', 'MAIN', 'AIR', 'TANK', 'ROOM', 'Standard', 'Standard', 'THERE', 'PIERCING', 'HISS', 'OF', 'ESCAPING', 'AIR', 'THE', 'SOUND', 'LEVEL', 'GRADUALLY', 'RETURNS', 'TO', 'NORMAL', 'Standard', 'Finally', 'ROBY', 'How', 'Standard', 'STANDARD', 'HUNTER', 'Oh', 'God.', 'STANDARD', 'Does', 'ROBY', 'Faust', 'STANDARD', 'ROBY', 'No', 'INTERIOR', 'AIR', 'LOCK', 'Faust', 'INTERIOR', 'BRIDGE', 'Standard', 'Roby', 'Hunter', 'ROBY', 'Poor', 'kitty', 'STANDARD', 'ROBY', 'No', 'HUNTER', 'Oh', 'STANDARD', 'HUNTER', 'How', 'STANDARD', 'ROBY', 'STANDARD', 'That', 'HUNTER', 'ROBY', 'STANDARD', 'Let', 'ROBY', 'Okay.', 'First', 'STANDARD', 'That', 'ROBY', 'Right...', 'HUNTER', 'Blow', 'ROBY', 'Irth', 'STANDARD', 'ROBY', 'Doesn', 'Colonies', 'HUNTER', 'ROBY', 'Anyway', 'STANDARD', 'No', 'ROBY', 'Yeah...', 'STANDARD', 'CONT', 'D', 'HUNTER', 'Good', 'STANDARD', 'ROBY', 'HUNTER', 'ROBY', 'STANDARD', 'HUNTER', 'STANDARD', 'Right.', 'Let', 'INTERIOR', 'MINING', 'CARGO', 'BAY', 'A', 'LONG', 'RACKS', 'OF', 'SHELVES', 'ARE', 'STOCKED', 'WITH', 'METAL', 'CONTAINERS', 'OF', 'VARIOUS', 'SHAPES.', 'HUNTER', 'Which', 'STANDARD', 'N', 'Hunter', 'ROBY', 'IS', 'STARING', 'AT', 'THE', 'ROWS', 'OF', 'METAL', 'CANNISTERS.', 'ROBY', 'Irth', 'STANDARD', 'Hunter', 'ROBY', 'Hey', 'STANDARD', 'INTERIOR', 'CORRIDOR', 'Hunter', 'BEEPS.', 'HUNTER', 'BEEPS', 'AGAIN.', 'Hunter', 'HUNTER', 'CONT', 'D', 'Standard', 'ROBY', 'So', 'Do', 'STANDARD', 'Now.', 'Standard', 'INTERIOR', 'DIM', 'STAIRWELL', 'Standard', 'METALLIC', 'TAPPING', 'SOUND', 'EXTERIOR', 'DORSAL', 'OBSERVATION', 'DOME', 'VIEW', 'OF', 'OUTER', 'SPACE', 'Standard', 'METALLIC', 'TAPPING', 'Standard', 'BROUSSARD', 'S', 'CORPSE', 'FLOATS', 'OUTSIDE', 'THE', 'GLASS', 'THE', 'DOME.', 'STANDARD', 'ROBY', 'Oh', 'Jesus', 'Broussard', 'Bumping', 'STANDARD', 'HUNTER', 'Should', 'STANDARD', 'No...', 'Glancing', 'Broussard', 'INTERIOR', 'NOSE', 'OF', 'SHIP', 'INTERIOR', 'LIFEBOAT', 'A', 'STANDARD', 'HUNTER', 'ROBY', 'STANDARD', 'HUNTER', 'ROBY', 'Well', 'INTERIOR', 'NOSE', 'OF', 'SHIP', 'STANDARD', 'Well...', 'HUNTER', 'Whoever', 'ROBY', 'Isn', 'HUNTER', 'Hey', 'STANDARD', 'Yes', 'ROBY', 'Who', 'INSERT', 'THREE', 'CRUMPLED', 'PIECES', 'OF', 'PAPER.', 'Three', 'ANGLE', 'ON', 'ROBY.', 'ANOTHER', 'ANGLE', 'SHORTLY', 'LATER.', 'Hunter', 'Roby', 'HUNTER', 'Just', 'ROBY', 'HUNTER', 'ROBY', 'Thanks', 'STANDARD', 'All', 'Martin', 'ROBY', 'STANDARD', 'ROBY', 'Kablooey.', 'Hunter', 'STANDARD', 'Come', 'Standard', 'Hunter', 'Roby', 'READY.', 'STANDARD', 'S', 'VOICE', 'STANDARD', 'SCENE', 'ROBY', 'ALONE', 'BY', 'THE', 'LIFEBOAT', 'LISTENING', 'TO', 'THE', 'VOICES', 'ON', 'THE', 'COMMUNICATOR.', 'HUNTER', 'Roby', 'INTERIOR', 'CORRIDOR', 'IN', 'SHIP', 'Standard', 'Hunter', 'HUNTER', 'STANDARD', 'Let', 'Carefully', 'Standard', 'THE', 'CREATURE', 'POPS', 'OUT', 'HIDING', 'BEHIND', 'HUNTER', 'AND', 'PICKS', 'HIM', 'UP.', 'HUNTER', 'SCREAMS.', 'Standard', 'Hunter.', 'Standard', 'Standard', 'HUNTER', 'STANDARD', 'TAKES', 'A', 'BITE', 'OUT', 'OF', 'HUNTER', 'WHO', 'SCREAMS', 'IN', 'MORTAL', 'AGONY.', 'Standard', 'BUT', 'THE', 'CREATURE', 'SWINGS', 'HUNTER', 'AROUND', 'A', 'SHIELD', 'AND', 'HUNTER', 'CATCHES', 'THE', 'FULL', 'BLAST', 'THE', 'FLAME.', 'Standard', 'Hunter', 'INTERIOR', 'NOSE', 'OF', 'SHIP', 'Roby', 'ROBY', 'Hello', 'Standard', 'Hunter', 'INTERIOR', 'CORRIDORS', 'IN', 'SHIP', 'Roby', 'Standard', 'INTERIOR', 'MAINTENANCE', 'LEVEL', 'Roby', 'Roby', 'INTERIOR', 'DARK', 'STORAGE', 'ROOM', 'Roby', 'THE', 'PLACE', 'IS', 'A', 'HORRIBLE', 'LAIR', 'FULL', 'OF', 'BONES', 'HAIR', 'SHREDS', 'OF', 'FLESH', 'PIECES', 'OF', 'CLOTHING', 'AND', 'SHOES.', 'Something', 'Roby', 'THE', 'CEILING', 'A', 'HUGE', 'COCOON.', 'Flamethrower', 'Roby', 'THE', 'BODY', 'OF', 'STANDARD', 'IS', 'INSIDE', 'IT.', 'Unexpectedly', 'Standard', 'Roby', 'STANDARD', 'Kill', 'ROBY', 'STANDARD', 'Look...', 'Roby', 'Standard', 'EXACTLY', 'LIKE', 'THE', 'SPORES', 'IN', 'THE', 'TOMB.', 'STANDARD', 'CONT', 'D', 'Melkonis...', 'Hunter...', 'ROBY', 'STANDARD', 'No...', 'ROBY', 'Autodoc', 'STANDARD', 'No', 'ROBY', 'STANDARD', 'Kill', 'me...', 'Roby', 'INTERIOR', 'MAINTENANCE', 'LEVEL', 'Roby', 'EXTERIOR', 'OUTER', 'SPACE', 'AT', 'LIGHT', 'SPEED', 'SNARK', 'INTERIOR', 'BRIDGE', 'Roby', 'ROBY', 'Kitty', 'Wild', 'INTERIOR', 'MINING', 'CARGO', 'BAY', 'Roby', 'ROBY', 'Kitty', 'Tacitum', 'INTERIOR', 'ENGINE', 'ROOM', 'Catbox', 'Roby', 'A', 'SIREN', 'BEGINS', 'TO', 'HONK', 'THROUGHOUT', 'THE', 'SHIP.', 'COMPUTER', 'Attention', 'Attention', 'Finally', 'Roby', 'INTERIOR', 'CORRIDORS', 'IN', 'SHIP', 'Roby', 'COMPUTER', 'Attention', 'Engines', 'INTERIOR', 'NOSE', 'OF', 'SHIP', 'Roby', 'Hands', 'INTERIOR', 'CONNECTING', 'PASSAGEWAY', 'THE', 'CREATURE', 'IS', 'WAITING', 'AT', 'THE', 'OTHER', 'END', 'THE', 'PASSAGEWAY', 'INSIDE', 'THE', 'LIFEBOAT.', 'HISSES', 'INTERIOR', 'NOSE', 'OF', 'SHIP', 'Roby', 'SLAMS', 'SHUT', 'COMPUTER', 'Attention', 'Engines', 'Indecisive', 'Roby', 'LAUNCH', 'INTERIOR', 'CORRIDORS', 'IN', 'SHIP', 'Roby', 'COMPUTER', 'Attention', 'Engines', 'INTERIOR', 'ENGINE', 'ROOM', 'Roby', 'Roby', 'THE', 'SIREN', 'CONTINUES.', 'COMPUTER', 'Attention', 'Engines', 'Roby', 'ROBY', 'Computer', 'COMPUTER', 'Engines', 'Roby', 'INTERIOR', 'CORRIDORS', 'IN', 'SHIP', 'Again', 'Roby', 'COMPUTER', 'Attention', 'Engines', 'INTERIOR', 'NOSE', 'OF', 'SHIP', 'Reeling', 'Roby', 'THE', 'LIFEBOAT', 'DOOR', 'IS', 'OPEN', 'AGAIN.', 'Quickly', 'INTERIOR', 'PASSAGEWAY', 'Roby', 'COMPUTER', 'Attention', 'Engines', 'INTERIOR', 'LIFEBOAT', 'HIS', 'POINT', 'OF', 'VIEW', 'EMPTY.', 'INTERIOR', 'PASSAGEWAY', 'Immediately', 'COMPUTER', 'Attention', 'Engines', 'INTERIOR', 'LIFEBOAT', 'LAUNCH', 'EXTERIOR', 'NOSE', 'OF', 'SHIP', 'OUTER', 'SPACE', 'THE', 'LIFEBOAT', 'IS', 'LAUNCHED', 'AWAY', 'THE', 'SNARK.', 'INTERIOR', 'LIFEBOAT', 'Roby', 'EXTERIOR', 'SPACE', 'SNARK.', 'INTERIOR', 'LIFEBOAT', 'Roby', 'YOWLING.', 'Roby', 'EXTERIOR', 'SPACE', 'SNARK', 'THEN', 'IT', 'BLOWS', 'UP.', 'AN', 'EXPANDING', 'ORANGE', 'FIREBALL', 'WITH', 'PIECES', 'OF', 'METAL', 'FLYING', 'IN', 'ALL', 'DIRECTIONS.', 'INTERIOR', 'LIFEBOAT', 'Roby', 'EXTERIOR', 'SPACE', 'INTERIOR', 'LIFEBOAT', 'Roby', 'BEHIND', 'HIM', 'THE', 'CREATURE', 'EMERGES', 'FROM', 'SOME', 'HIDING', 'PLACE', 'IT', 'HAS', 'BEEN', 'INSIDE', 'THE', 'LIFEBOAT', 'ALL', 'ALONG.', 'SCREECHES.', 'Roby', 'Roby.', 'Roby', 'INTERIOR', 'SPACESUIT', 'LOCKER', 'Roby.', 'Roby', 'THE', 'CAT', 'INTERIOR', 'LIFEBOAT', 'CAT', 'YOWLS', 'LOUDER.', 'INTERIOR', 'SPACESUIT', 'LOCKER', 'Trying', 'Roby', 'TAPS', 'ON', 'THE', 'GLASS.', 'Roby.', 'Getting', 'Roby', 'Quickly', 'INTERIOR', 'LIFEBOAT', 'MOANS.', 'INTERIOR', 'SPACESUIT', 'LOCKER', 'Roby', 'INTERIOR', 'LIFEBOAT', 'INTERIOR', 'SPACESUIT', 'LOCKER', 'Roby', 'Roby', 'Again', 'INTERIOR', 'LIFEBOAT', 'INTERIOR', 'SPACESUIT', 'LOCKER', 'ROBY', 'Try', 'HE', 'KICKS', 'THE', 'DOOR', 'OPEN.', 'INTERIOR', 'LIFEBOAT', 'THE', 'STEEL', 'SHAFT', 'RIGHT', 'THROUGH', 'ITS', 'MIDRIFF.', 'IT', 'MAKES', 'A', 'HORRIBLE', 'NOISE', 'AND', 'CLUTCHES', 'AT', 'THE', 'SPUR.', 'Roby', 'REAR', 'HATCH.', 'Roby', 'IT', 'THE', 'END', 'A', 'TENTACLE', 'AROUND', 'HIS', 'ANKLE.', 'EXTERIOR', 'LIFEBOAT', 'OUTER', 'SPACE', 'Roby', 'INTERIOR', 'LIFEBOAT', 'Roby', 'Roby', 'TRAPPING', 'THE', 'END', 'THE', 'CREATURE', 'S', 'TENTACLE', 'IN', 'THE', 'DOORJAMB.', 'Roby', 'EXTERIOR', 'LIFEBOAT', 'OUTER', 'SPACE', 'INTERIOR', 'LIFEBOAT', 'Where', 'Roby', 'RAM', 'JETS', 'EXTERIOR', 'LIFEBOAT', 'OUTER', 'SPACE', 'THE', 'ENGINES', 'BELCH', 'FLAME', 'FOR', 'A', 'FEW', 'SECONDS', 'THEN', 'SHUT', 'OFF.', 'INCINERATED', 'THE', 'CREATURE', 'TUMBLES', 'SLOWLY', 'AWAY', 'INTO', 'SPACE.', 'INTERIOR', 'LIFEBOAT', 'Roby', 'EXTERIOR', 'OUTER', 'SPACE', 'DISSOLVE', 'TO', 'INTERIOR', 'LIFEBOAT', 'LATER', 'Roby', 'ROBY', 'Incidentally', 'ALIEN', 'SKULL.', 'ROBY', 'CONT', 'D', 'Poor', 'Yorick', 'ROBY', 'CONT', 'D', 'Martin', 'Roby', 'SNARK', 'Come', 'Roby', 'THE', 'LID', 'CLOSES', 'OVER', 'HIM.', 'CLOSE', 'UP', 'THE', 'ALIEN', 'SKULL', 'Roby', 'EXTERIOR', 'OUTER', 'SPACE', 'SNARK', 'Irth', 'SNARK', 'A', 'SPORE', 'POD', 'IS', 'ADHERED', 'TO', 'THE', 'UNDERBELLY', 'THE', 'CRAFT.', 'ROLL', 'END', 'TITLES', 'MUSIC.', 'THE']\n"
     ]
    }
   ],
   "source": [
    "# Test on a single text from our corpus\n",
    "nouns = getPOS(\"NNP\", alien)\n",
    "print(nouns)"
   ]
  },
  {
   "cell_type": "markdown",
   "metadata": {},
   "source": [
    "### Putting It All Together\n",
    "\n",
    "With the POS tagging and a sense of the NLTK's ability to identify at least proper nouns and some other named entities, we can now put it all together and see how well NLTK does at identifying named entities using fairly simple code."
   ]
  },
  {
   "cell_type": "code",
   "execution_count": 43,
   "metadata": {},
   "outputs": [],
   "source": [
    "# Read in all screenplays\n",
    "screenplays = []\n",
    "for p in Path('../queue/scifi/').glob('*.txt'):\n",
    "    with open(p, encoding=\"utf8\", errors='ignore') as f:\n",
    "        contents = f.read()\n",
    "        screenplays.append(contents)"
   ]
  },
  {
   "cell_type": "markdown",
   "metadata": {},
   "source": [
    "It is tempting to deploy are already written functions, but some experimentation reveals that getPOS expects a string, and we would not want to tokenize our string twice, so we will need to create a function which tokenizes the text, tags it, grabs all the proper nouns, makes a list of them, and then uses that list to remove the proper nouns from each of our texts. \n",
    "\n",
    "Because our goal is to feed these results to SciKit-Learn in hopes of a better topic model, we will need to have our function return a string. \n",
    "\n",
    "*Phew.* That's a lot of work. Will it be worth it? Let's find out."
   ]
  },
  {
   "cell_type": "code",
   "execution_count": null,
   "metadata": {},
   "outputs": [],
   "source": [
    "# The one function to rule them all\n",
    "def removePNs(a_string):\n",
    "    \"\"\"\n",
    "    Roundtrips a string to remove proper nouns\n",
    "    \"\"\"\n",
    "    tokens = re.sub('[^a-zA-Z \\.]', ' ', a_string).split()\n",
    "    tagged = nltk.pos_tag(tokens)\n",
    "    the_list = []\n",
    "    for i in tagged:\n",
    "        if i[1] == \"NNP\":\n",
    "            the_list.append(i[0])\n",
    "    toremove = list(set(the_list))\n",
    "    filtered = []\n",
    "    for token in tokens:\n",
    "        if token not in toremove:\n",
    "            filtered.append(token)\n",
    "    return \" \".join(filtered)"
   ]
  },
  {
   "cell_type": "markdown",
   "metadata": {},
   "source": [
    "Having created a composite function, let's try it out:"
   ]
  },
  {
   "cell_type": "code",
   "execution_count": 45,
   "metadata": {},
   "outputs": [
    {
     "name": "stdout",
     "output_type": "stream",
     "text": [
      "early draft by project formerly titled by by route back to from a far part of the galaxy the crew of\n"
     ]
    }
   ],
   "source": [
    "# Test on a single text from our corpus\n",
    "alien = removePNs(alien)\n",
    "print(alien[0:100])"
   ]
  },
  {
   "cell_type": "code",
   "execution_count": 46,
   "metadata": {},
   "outputs": [],
   "source": [
    "# Use on all screenplays\n",
    "texts = [removePNs(text) for text in screenplays]"
   ]
  },
  {
   "cell_type": "code",
   "execution_count": 47,
   "metadata": {},
   "outputs": [],
   "source": [
    "# IMPORTS\n",
    "# For NMF Topic Models\n",
    "from sklearn.feature_extraction.text import TfidfVectorizer\n",
    "from sklearn.decomposition import NMF\n",
    "\n",
    "# Our custom function for displaying topics\n",
    "def display_topics(model, feature_names, n_top_words):\n",
    "    for topic_idx, topic in enumerate(model.components_):\n",
    "        message = \"{:d}: \".format(topic_idx)\n",
    "        message += \" \".join([feature_names[i] + ' ' + str(round(topic[i], 2)) + ','\n",
    "                             for i in topic.argsort()[:-n_top_words - 1:-1]])\n",
    "        print(message)\n",
    "    print()"
   ]
  },
  {
   "cell_type": "code",
   "execution_count": null,
   "metadata": {},
   "outputs": [
    {
     "data": {
      "text/plain": [
       "(155, 24522)"
      ]
     },
     "execution_count": 49,
     "metadata": {},
     "output_type": "execute_result"
    }
   ],
   "source": [
    "# Set the parameters for the DTM\n",
    "vectorizer = TfidfVectorizer(lowercase = True,\n",
    "                             min_df = 2,\n",
    "                             stop_words='english')\n",
    "\n",
    "# fit the model to the data \n",
    "dtm = vectorizer.fit_transform(texts)\n",
    "\n",
    "# We'll need these later\n",
    "vocabulary = vectorizer.get_feature_names_out()\n",
    "\n",
    "# see how many features we have\n",
    "dtm.shape"
   ]
  },
  {
   "cell_type": "code",
   "execution_count": 54,
   "metadata": {},
   "outputs": [
    {
     "name": "stderr",
     "output_type": "stream",
     "text": [
      "/Users/jl/miniconda3/envs/370/lib/python3.10/site-packages/sklearn/decomposition/_nmf.py:1742: ConvergenceWarning: Maximum number of iterations 500 reached. Increase it to improve convergence.\n",
      "  warnings.warn(\n"
     ]
    },
    {
     "data": {
      "text/plain": [
       "(155, 30)"
      ]
     },
     "execution_count": 54,
     "metadata": {},
     "output_type": "execute_result"
    }
   ],
   "source": [
    "# Set the parameters for creating the NMF model\n",
    "nmf = NMF(n_components=30, \n",
    "          max_iter=500).fit(dtm)\n",
    "nmf_W = nmf.transform(dtm)\n",
    "nmf_H = nmf.components_\n",
    "nmf_W.shape"
   ]
  },
  {
   "cell_type": "code",
   "execution_count": 55,
   "metadata": {},
   "outputs": [
    {
     "name": "stdout",
     "output_type": "stream",
     "text": [
      "0: know 0.62, beat 0.48, don 0.46, like 0.42, looks 0.37, just 0.36, think 0.31,\n",
      "1: ship 1.31, beat 0.26, crew 0.25, hull 0.24, planet 0.2, space 0.2, light 0.19,\n",
      "2: looks 0.59, eyes 0.38, hand 0.37, door 0.37, face 0.35, like 0.31, turns 0.3,\n",
      "3: cont 1.33, like 0.22, looks 0.14, head 0.14, eyes 0.13, sword 0.12, just 0.12,\n",
      "4: looks 1.11, like 1.04, just 0.98, know 0.71, ll 0.68, don 0.62, got 0.6,\n",
      "5: looks 0.83, twins 0.82, ragdolls 0.81, ragdoll 0.42, scientist 0.42, sees 0.38, trench 0.38,\n",
      "6: comlink 0.37, fighters 0.35, speeder 0.34, droid 0.3, stormtroopers 0.29, ship 0.26, walker 0.22,\n",
      "7: raptor 0.97, jungle 0.48, rex 0.36, dinosaur 0.35, jeep 0.34, looks 0.34, raptors 0.33,\n",
      "8: referring 0.54, ve 0.48, car 0.47, know 0.46, studio 0.41, face 0.4, screen 0.38,\n",
      "9: door 1.17, room 0.8, don 0.45, just 0.38, know 0.37, numbers 0.35, floor 0.34,\n",
      "10: apes 0.84, ape 0.57, cage 0.31, looks 0.3, chimp 0.29, horse 0.18, chimpanzee 0.18,\n",
      "11: disk 0.83, data 0.31, energy 0.21, grid 0.2, circuits 0.19, program 0.19, circuitry 0.18,\n",
      "12: away 0.41, tether 0.4, looks 0.37, eyes 0.36, like 0.35, helmet 0.35, cabin 0.35,\n",
      "13: castle 0.35, ve 0.33, crime 0.31, ll 0.3, night 0.29, tank 0.28, lift 0.27,\n",
      "14: audience 1.08, objective 0.74, says 0.49, walks 0.43, alien 0.43, empathy 0.42, jeopardy 0.41,\n",
      "15: sir 0.48, ger 0.47, continuing 0.44, phaser 0.36, ship 0.28, console 0.27, warp 0.27,\n",
      "16: robot 0.92, robots 0.31, door 0.22, gun 0.2, head 0.19, like 0.19, looks 0.17,\n",
      "17: tanker 0.79, crossbow 0.41, mover 0.33, road 0.31, buggy 0.29, vehicle 0.28, dune 0.26,\n",
      "18: camera 0.98, filming 0.69, like 0.3, just 0.29, don 0.28, fucking 0.24, know 0.24,\n",
      "19: chicken 0.57, egg 0.49, balloon 0.34, proton 0.22, weather 0.19, door 0.18, bowl 0.15,\n",
      "20: vampire 0.87, vampires 0.42, like 0.39, sword 0.32, blood 0.29, train 0.24, eyes 0.22,\n",
      "21: spider 0.66, spiders 0.64, tarantula 0.34, mall 0.15, away 0.13, door 0.13, antenna 0.12,\n",
      "22: bomb 0.47, ship 0.26, planet 0.23, revised 0.21, rd 0.18, ve 0.18, detonate 0.15,\n",
      "23: asteroid 0.39, drilling 0.35, drill 0.27, rig 0.26, hole 0.21, looks 0.17, like 0.14,\n",
      "24: game 0.49, pod 0.41, like 0.23, cashier 0.19, waiter 0.18, chalet 0.14, dais 0.13,\n",
      "25: like 0.34, eyes 0.19, away 0.16, face 0.16, hand 0.14, feet 0.13, jungle 0.13,\n",
      "26: marines 0.62, alien 0.32, aliens 0.18, looks 0.17, civilians 0.17, bus 0.16, squad 0.13,\n",
      "27: spice 0.44, worm 0.39, inner 0.31, voice 0.23, turns 0.16, worms 0.13, desert 0.12,\n",
      "28: car 0.54, know 0.23, don 0.22, right 0.19, going 0.19, got 0.17, like 0.15,\n",
      "29: parasite 0.27, diseased 0.25, door 0.2, posse 0.17, parasites 0.16, doorman 0.14, looks 0.14,\n",
      "\n"
     ]
    }
   ],
   "source": [
    "display_topics(nmf, vocabulary, 7)"
   ]
  }
 ],
 "metadata": {
  "celltoolbar": "Slideshow",
  "kernelspec": {
   "display_name": "370",
   "language": "python",
   "name": "python3"
  },
  "language_info": {
   "codemirror_mode": {
    "name": "ipython",
    "version": 3
   },
   "file_extension": ".py",
   "mimetype": "text/x-python",
   "name": "python",
   "nbconvert_exporter": "python",
   "pygments_lexer": "ipython3",
   "version": "3.10.16"
  }
 },
 "nbformat": 4,
 "nbformat_minor": 4
}
