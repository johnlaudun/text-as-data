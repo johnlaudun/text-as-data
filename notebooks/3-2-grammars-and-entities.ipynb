{
 "cells": [
  {
   "cell_type": "markdown",
   "metadata": {},
   "source": [
    "# 3-2 Grammars & Entities"
   ]
  },
  {
   "cell_type": "markdown",
   "metadata": {},
   "source": [
    "## Imports, Custom Function, Data"
   ]
  },
  {
   "cell_type": "code",
   "execution_count": 1,
   "metadata": {},
   "outputs": [
    {
     "name": "stdout",
     "output_type": "stream",
     "text": [
      "\"Off there to the right -- somewhere -- is a large\n"
     ]
    }
   ],
   "source": [
    "# IMPORTS\n",
    "import re\n",
    "import nltk\n",
    "\n",
    "\n",
    "# Improved normalization function\n",
    "# Removes all punctuation except periods (for sentences)\n",
    "# Lowercases all words and tokenizes\n",
    "def tknize (a_string):\n",
    "    # Handle all the string operations at one time\n",
    "    clean = re.sub('[^a-zA-Z \\.]', ' ', a_string).lower()\n",
    "    # Create the list of sub-strings (tokens) and return it\n",
    "    return nltk.tokenize.word_tokenize(clean)\n",
    "\n",
    "# DATA\n",
    "with open(\"../data/mdg.txt\", mode=\"r\", encoding=\"utf-8\") as f:\n",
    "            mdg = f.read()\n",
    "\n",
    "print(mdg[0:50])"
   ]
  },
  {
   "cell_type": "code",
   "execution_count": 2,
   "metadata": {},
   "outputs": [
    {
     "name": "stdout",
     "output_type": "stream",
     "text": [
      "['off', 'there', 'to', 'the', 'right', 'somewhere', 'is', 'a', 'large', 'island']\n"
     ]
    }
   ],
   "source": [
    "# Break them into a list of tokens\n",
    "mdg_ = tknize(mdg)\n",
    "\n",
    "print(mdg_[0:10])"
   ]
  },
  {
   "cell_type": "markdown",
   "metadata": {},
   "source": [
    "## Tagging\n",
    "\n",
    "See the [list of PoS tags](https://www.ling.upenn.edu/courses/Fall_2003/ling001/penn_treebank_pos.html) on the UPenn website for details on tags. For a complete list, run the following: `nltk.help.upenn_tagset()` -- please make sure you download the tag set first, `nltk.download(\"tagsets\")`. \n",
    "\n",
    "Here are the codes I use most often:\n",
    "\n",
    "|Tag | Part of Speech |\n",
    "|----|----------------|\n",
    "|JJ\t | Adjectives     | \n",
    "|NN\t | Nouns          |\n",
    "|RB\t | Adverbs        |\n",
    "|PRP | Pronouns       |\n",
    "|VB\t | Verbs          |\n",
    "\n",
    "But this [alphabetical list](https://www.ling.upenn.edu/courses/Fall_2003/ling001/penn_treebank_pos.html) on a UPenn web page is really the most helpful."
   ]
  },
  {
   "cell_type": "code",
   "execution_count": 3,
   "metadata": {},
   "outputs": [
    {
     "data": {
      "text/plain": [
       "[('off', 'RB'),\n",
       " ('there', 'EX'),\n",
       " ('to', 'TO'),\n",
       " ('the', 'DT'),\n",
       " ('right', 'NN'),\n",
       " ('somewhere', 'RB'),\n",
       " ('is', 'VBZ'),\n",
       " ('a', 'DT'),\n",
       " ('large', 'JJ'),\n",
       " ('island', 'NN')]"
      ]
     },
     "execution_count": 3,
     "metadata": {},
     "output_type": "execute_result"
    }
   ],
   "source": [
    "# mdg_ is our cleaned list of tokens which keeps only periods.\n",
    "mdg_tagged = nltk.pos_tag(mdg_)\n",
    "\n",
    "mdg_tagged[0:10]"
   ]
  },
  {
   "cell_type": "markdown",
   "metadata": {},
   "source": [
    "QUIZ: Describe the data structure above."
   ]
  },
  {
   "cell_type": "code",
   "execution_count": 5,
   "metadata": {},
   "outputs": [
    {
     "name": "stdout",
     "output_type": "stream",
     "text": [
      "RB EX TO DT NN RB VBZ DT JJ NN\n"
     ]
    }
   ],
   "source": [
    "# You can re-assemble this to see what the parser is going to see\n",
    "reassembled = [tagged[1] for tagged in mdg_tagged[0:10]]\n",
    "print(\" \".join(reassembled))"
   ]
  },
  {
   "cell_type": "markdown",
   "metadata": {},
   "source": [
    "The purpose of the code block above is to demonstrate that the tagged document is simply a list of tuples, which you can manipulate a number of ways, here I am simply grabbing the first value in the tuple, `tuple[0]`. \n",
    "\n",
    "We could also do something like this:"
   ]
  },
  {
   "cell_type": "code",
   "execution_count": 10,
   "metadata": {},
   "outputs": [
    {
     "name": "stdout",
     "output_type": "stream",
     "text": [
      "large\n",
      "rainsford\n",
      "old\n",
      "ship\n",
      "trap\n",
      "suggestive\n",
      "curious\n",
      "i\n",
      "dank\n",
      "tropical\n",
      "palpable\n",
      "thick\n",
      "warm\n",
      "good\n"
     ]
    }
   ],
   "source": [
    "for t in mdg_tagged[0:100]:\n",
    "    if t[1] == 'JJ':\n",
    "        print(t[0])"
   ]
  },
  {
   "cell_type": "markdown",
   "metadata": {},
   "source": [
    "***Uh oh!*** NLTK isn't infallible! The NLTK has tagged \"rainsford\" and \"i\" as adjectives. (Tagging the \"I\" as an adjective is something I have encountered before.) First, you should know there are alternatives to NLTK -- I recommend spaCy over TextBlob -- but you also have to determine if these are one-off errors that you can ignore or if you can ignore these errors because of the scale of your work. This is an analytical judgment call: you must make it for yourself, but you must **document** it for others. *Documentation makes **you** look smart!*"
   ]
  },
  {
   "cell_type": "markdown",
   "metadata": {},
   "source": [
    "### Textblob"
   ]
  },
  {
   "cell_type": "code",
   "execution_count": 11,
   "metadata": {},
   "outputs": [
    {
     "name": "stdout",
     "output_type": "stream",
     "text": [
      "large island\n",
      "old charts\n",
      "ship trap island whitney\n",
      "suggestive name isn t\n",
      "curious dread\n",
      "i don t\n",
      "dank tropical night\n",
      "warm blackness\n",
      "ve good eyes\n",
      "i ve\n"
     ]
    }
   ],
   "source": [
    "# Get the functionality we need\n",
    "from textblob import TextBlob\n",
    "\n",
    "# Create the blob\n",
    "blob = TextBlob(re.sub('[^a-zA-Z \\.]', ' ', mdg).lower())\n",
    "\n",
    "# Get the noun phrases (so easy!)\n",
    "mdg_np = blob.noun_phrases\n",
    "\n",
    "# See some results\n",
    "for i in mdg_np[0:10]:\n",
    "    print(i)"
   ]
  },
  {
   "cell_type": "markdown",
   "metadata": {},
   "source": [
    "***Lions, tigers, and bear! Oh my!*** TextBlob produces weird results as well. This is not easy! (Think about the implications for large language models and how many inaccurate results are being \"averaged\" out.)"
   ]
  },
  {
   "cell_type": "markdown",
   "metadata": {},
   "source": [
    "### spaCy"
   ]
  },
  {
   "cell_type": "code",
   "execution_count": 12,
   "metadata": {},
   "outputs": [
    {
     "name": "stdout",
     "output_type": "stream",
     "text": [
      "Apple Apple PROPN NNP\n",
      "is be AUX VBZ\n",
      "looking look VERB VBG\n",
      "at at ADP IN\n",
      "buying buy VERB VBG\n",
      "U.K. U.K. PROPN NNP\n",
      "startup startup VERB VBD\n",
      "for for ADP IN\n",
      "$ $ SYM $\n",
      "1 1 NUM CD\n",
      "billion billion NUM CD\n"
     ]
    }
   ],
   "source": [
    "import spacy\n",
    "\n",
    "nlp = spacy.load(\"en_core_web_sm\")\n",
    "doc = nlp(\"Apple is looking at buying U.K. startup for $1 billion\")\n",
    "\n",
    "for token in doc:\n",
    "    print(token.text, token.lemma_, token.pos_, token.tag_)\n"
   ]
  },
  {
   "cell_type": "code",
   "execution_count": 13,
   "metadata": {},
   "outputs": [
    {
     "name": "stdout",
     "output_type": "stream",
     "text": [
      "\" PUNCT\n",
      "Off ADV\n",
      "there ADV\n",
      "to ADP\n",
      "the DET\n",
      "right NOUN\n",
      "-- PUNCT\n",
      "somewhere ADV\n",
      "-- PUNCT\n",
      "is AUX\n"
     ]
    }
   ],
   "source": [
    "mdg_doc = nlp(mdg)\n",
    "\n",
    "for token in mdg_doc[0:10]:\n",
    "    print(token.text, token.pos_)"
   ]
  },
  {
   "cell_type": "code",
   "execution_count": 14,
   "metadata": {},
   "outputs": [
    {
     "name": "stdout",
     "output_type": "stream",
     "text": [
      "{'Crimea', 'khaki', 'Swede', 'Russian', 'Dusk', 'New', 'English', 'Mr.', 'Captain', 'Rainsford', 'Madame', 'bush', 'Czar', 'French', 'china', 'borsch', 'cr^epes', 'God', 'huskily', 'Paris', 'Mirage', 'Island', 'Chablis', 'City', 'Watch', 'General', 'Trap', 'gray', \"anything?'--\", 'Monte', 'jut', 'Swam', 'Caucasus', 'Providence', 'Pistol', 'Bah', 'Lazarus', 'Boredom', 'White', 'Puritan', 'Zaroff', '.the', 'American', 'Marcus', 'Ugh', 'Americans', 'Suzette', 'weary', 'au', 'Au', 'Roger', 'Cliquot', 'staccato', 'Ennui', 'Malacca', 'Carlo', 'revoir', 'Amazon', 'Lucar', 'Doubtless', 'Death', 'Swamp', 'Folies', 'Automatically', 'Cossack', 'Moscow', 'Purdey', 'bay', 'Sleep', 'Rains', 'Sea', 'nearer', 'London', 'Africa', 'York', 'astrakhan', 'Nielsen', 'Gasping', 'Caribbean', 'Uganda', 'Laughter', 'I.', 'Tibet', 'Russia', 'Splendid', 'liqueur', 'San', 'Russians', 'Guns', 'Rio', 'Butterfly', 'Cape', 'Great', 'Aurelius', 'Ship', 'ford', 'Pol', 'general', 'Whitney', 'Bergere', 'Chambertin', 'Sanger', 'Ivan', 'Chinese', 'Veuve', 'America', 'East', 'France', 'Ganges'}\n"
     ]
    }
   ],
   "source": [
    "mdg_PPNs = []\n",
    "for token in mdg_doc:\n",
    "    if token.pos_ == \"PROPN\":\n",
    "        mdg_PPNs.append(token.text)\n",
    "\n",
    "print(set(mdg_PPNs))"
   ]
  },
  {
   "cell_type": "code",
   "execution_count": 34,
   "metadata": {},
   "outputs": [
    {
     "name": "stdout",
     "output_type": "stream",
     "text": [
      "['right', 'island', 'whitney', 'mystery', 'island', 'island', 'whitney', 'name', 'isn', 'dread', 'place', 'superstition', 'rainsford', 'night', 'blackness', 'yacht', 'whitney', 'laugh', 'i']\n"
     ]
    }
   ],
   "source": [
    "# Compare NLTK and Spacy on proper nouns\n",
    "\n",
    "tagged = nltk.pos_tag(mdg_)\n",
    "# print(tagged[0:5])\n",
    "\n",
    "mdg_nouns = []\n",
    "for i in tagged[0:100]:\n",
    "    if i[1] == \"NN\":\n",
    "        mdg_nouns.append(i[0])\n",
    "\n",
    "print(mdg_nouns)"
   ]
  },
  {
   "cell_type": "code",
   "execution_count": 39,
   "metadata": {},
   "outputs": [],
   "source": [
    "def getPOS (POS, a_string):\n",
    "    \"\"\"\n",
    "    Takes a string and returns a list of tuples with the word \n",
    "    and its part of speech\n",
    "    \"\"\"\n",
    "    tokens = nltk.word_tokenize(a_string)\n",
    "    tagged = nltk.pos_tag(tokens)\n",
    "    the_list = []\n",
    "    for i in tagged:\n",
    "        if i[1] == POS:\n",
    "            the_list.append(i[0])\n",
    "    return the_list"
   ]
  },
  {
   "cell_type": "code",
   "execution_count": 41,
   "metadata": {},
   "outputs": [
    {
     "name": "stdout",
     "output_type": "stream",
     "text": [
      "['right', 'island', 'mystery', 'island', 'name', 'dread', 'place', 'superstition', 'night', 'blackness', 'yacht', 'laugh', 'moose', 'fall', 'bush', 'night', 'moist', 'velvet', 'jaguar', 'hunting', 'sport', 'sport', 'world', 'hunter', 'jaguar', 'rot', 'hunter', 'philosopher', 'jaguar', 'jaguar', 'understanding', 'thing', 'fear', 'fear', 'pain', 'fear', 'death', 'weather', 'realist', 'world', 'island', 'dark', 'place', 'reputation', 'one', 'place', 'sailor', 'lore', 'crew', 'bit', 'today', 'bit', 'devil', 'light', 'look', 'place', 'name', 'sir', 'anything', 'air', 'something', 'chill', 'breeze', 'sea', 'plate-glass', 'window', 'island', 'chill', 'sort', 'dread', 'imagination', 'sailor', 'ship', 'company', 'fear', 'sense', 'danger', 'thing', 'sound', 'light', 'place', 'evil', 'zone', 'pipe', 'afterdeck', 'night', 'breakfast', 'night', 'sound', 'night', 'throb', 'engine', 'yacht', 'darkness', 'ripple', 'wash', 'propeller', 'steamer', 'chair', 'brier', 'drowsiness', 'night', 'night', 'sound', 'right', 'expert', 'sound', 'blackness', 'someone', 'gun', 'rail', 'direction', 'blanket', 'rail', 'elevation', 'pipe', 'rope', 'mouth', 'cry', 'balance', 'cry', 'head', 'surface', 'wash', 'yacht', 'face', 'salt', 'water', 'mouth', 'yacht', 'coolheadedness', 'time', 'place', 'chance', 'someone', 'yacht', 'chance', 'slender', 'yacht', 'power', 'yacht', 'night', 'right', 'direction', 'strength', 'time', 'sea', 'sound', 'darkness', 'screaming', 'sound', 'sound', 'animal', 'extremity', 'terror', 'animal', 'sound', 'vitality', 'sound', 'noise', 'crisp', 'staccato', 'shot', 'effort', 'sound', 'muttering', 'growling', 'sea', 'shore', 'night', 'calm', 'strength', 'opaqueness', 'hand', 'hand', 'Gasping', 'place', 'jungle', 'edge', 'tangle', 'concern', 'enemy', 'sea', 'weariness', 'jungle', 'edge', 'sleep', 'life', 'position', 'sun', 'afternoon', 'vigor', 'hunger', 'food', 'kind', 'place', 'front', 'shore', 'sign', 'trail', 'web', 'shore', 'water', 'thing', 'evidence', 'animal', 'underbrush', 'jungle', 'moss', 'patch', 'crimson', 'object', 'eye', 'cartridge', 'twenty-two', 'animal', 'hunter', 'nerve', 'gun', 'brute', 'fight', 'hunter', 'quarry', 'shot', 'ground', 'print', 'cliff', 'direction', 'log', 'stone', 'night', 'island', 'darkness', 'sea', 'jungle', 'crook', 'coast', 'line', 'thought', 'village', 'astonishment', 'building', 'structure', 'gloom', 'shadowy', 'chateau', 'bluff', 'sea', 'mirage', 'iron', 'gate', 'stone', 'door', 'leering', 'gargoyle', 'knocker', 'air', 'unreality', 'knocker', 'stiffly', 'loudness', 'door', 'Again', 'knocker', 'door', 'spring', 'river', 'gold', 'light', 'thing', 'man', 'creature', 'waist', 'hand', 'man', 'revolver', 'heart', 'snarl', 'beard', 'smile', 'robber', 'yacht', 'name', 'menacing', 'look', 'change', 'revolver', 'pointing', 'giant', 'statue', 'sign', 'uniform', 'uniform', 'astrakhan', 'yacht', 'man', 'answer', 'thumb', 'hammer', 'revolver', 'man', 'hand', 'forehead', 'salute', 'attention', 'man', 'erect', 'slender', 'man', 'hand', 'voice', 'accent', 'precision', 'deliberateness', 'pleasure', 'honor', 'hunter', 'home', 'man', 'hand', 'book', 'man', 'impression', 'man', 'handsome', 'second', 'quality', 'general', 'face', 'man', 'age', 'hair', 'mustache', 'night', 'sharpcut', 'spare', 'face', 'face', 'man', 'face', 'aristocrat', 'giant', 'uniform', 'sign', 'pistol', 'fellow', 'misfortune', 'fellow', 'race', 'bit', 'savage', 'Cossack', 'smile', 'food', 'rest', 'spot', 'spoke', 'sound', 'dinner', 'bedroom', 'bed', 'giant', 'evening', 'suit', 'tailor', 'none', 'rank', 'duke', 'dining', 'room', 'magnificence', 'hall', 'ceiling', 'refectory', 'twoscore', 'hall', 'table', 'general', 'cocktail', 'cocktail', 'table', 'linen', 'crystal', 'silver', 'china', 'borsch', 'soup', 'cream', 'civilization', 'track', 'champagne', 'trip', 'host', 'cosmopolite', 'trait', 'general', 'plate', 'name', 'passion', 'life', 'ford', 'hunt', 'filet', 'mignon', 'buffalo', 'fellow', 'monster', 'tree', 'skull', 'brute', 'ord', 'buffalo', 'game', 'moment', 'general', 'smile', 'buffalo', 'game', 'wine', 'preserve', 'island', 'tone', 'game', 'surprise', 'game', 'island', 'course', 'stock', 'island', 'interest', 'thrill', 'danger', 'danger', 'pocket', 'gold', 'cigarette', 'case', 'cigarette', 'tip', 'smell', 'incense', 'capital', 'hunting', 'society', 'game', 'modesty', 'thing', 'sensation', 'glass', 'port', 'Me', 'hunter', 'hand', 'trigger', 'father', 'man', 'quarter', 'sportsman', 'gun', 'prize', 'marksmanship', 'bear', 'life', 'hunt', 'army', 'time', 'division', 'cavalry', 'interest', 'hunt', 'kind', 'game', 'land', 'puffed', 'cigarette', 'debacle', 'country', 'imprudent', 'officer', 'everything', 'tearoom', 'taxi', 'buffalo', 'match', 'hunter', 'rifle', 'tent', 'splitting', 'headache', 'night', 'thought', 'way', 'mind', 'life', 'business', 'life', 'wish', 'something', 'mine', 'mind', 'chase', 'doubt', 'hunt', 'answer', 'hunting', 'sporting', 'proposition', 'quarry', 'perfection', 'lit', 'cigarette', 'animal', 'chance', 'boast', 'certainty', 'animal', 'nothing', 'instinct', 'match', 'reason', 'moment', 'table', 'host', 'inspiration', 'smile', 'obstacle', 'success', 'animal', 'animal', 'animal', 'island', 'house', 'hunting', 'island', 'maze', 'animal', 'hunting', 'world', 'instant', 'day', 'quarry', 'bewilderment', 'face', 'ideal', 'animal', 'ideal', 'quarry', 'answer', 'course', 'courage', 'cunning', 'reason', 'animal', 'reason', 'fellow', 'joke', 'murder', 'nature', 'man', 'value', 'life', 'war', 'murder', 'stiffly', 'man', 'class', 'point', 'view', 'snuffbox', 'limousine', 'doubtless', 'thrill', 'store', 'hunter', 'murderer', 'word', 'world', 'pleasure', 'gift', 'scum', 'earth', 'horse', 'hound', 'score', 'pleasure', 'reason', 'fashion', 'general', 'left', 'eyelid', 'wink', 'island', 'god', 'kind', 'bit', 'window', 'window', 'sea', 'night', 'blackness', 'button', 'flash', 'chuckled', 'channel', 'none', 'razor', 'sea', 'monster', 'ship', 'nut', 'walnut', 'hardwood', 'floor', 'heel', 'answer', 'question', 'electricity', 'trace', 'anger', 'general', 'manner', 'man', 'thing', 'consideration', 'plenty', 'food', 'exercise', 'condition', 'tomorrow', 'training', 'school', 'cellar', 'dozen', 'bark', 'luck', 'lot', 'deck', 'jungle', 'hand', 'waiter', 'coffee', 'effort', 'tongue', 'check', 'game', 'supply', 'food', 'hunting', 'knife', 'start', 'pistol', 'caliber', 'range', 'quarry', 'game', 'option', 'course', 'game', 'honor', 'knouter', 'sport', 'hunt', 'smile', 'general', 'face', 'date', 'braggart', 'sort', 'problem', 'tartar', 'way', 'please', 'window', 'illumination', 'grotesque', 'courtyard', 'dozen', 'lot', 'night', 'anyone', 'house', 'something', 'snatch', 'song', 'collection', 'library', 'swim', 'night', 'sleep', 'man', 'prospect', 'room', 'tonight', 'general', 'sport', 'night', 'night', 'rest', 'bed', 'pajamas', 'silk', 'fiber', 'brain', 'opiate', 'sleep', 'corridor', 'room', 'door', 'window', 'room', 'chateau', 'fragment', 'moon', 'wan', 'light', 'courtyard', 'pattern', 'shadow', 'window', 'bed', 'doze', 'morning', 'jungle', 'report', 'pistol', 'luncheon', 'country', 'squire', 'state', 'health', 'night', 'complaint', 'glance', 'general', 'hunting', 'night', 'fellow', 'head', 'trail', 'trouble', 'glass', 'island', 'hurt', 'fellow', 'hunting', 'today', 'face', 'glass', 'bottle', 'head', 'hothouse', 'grape', 'friend', 'choice', 'venture', 'idea', 'sport', 'diverting', 'corner', 'stood', 'hogshead', 'chest', 'fellow', 'inspiration', 'worthy', 'steel', 'glass', 'game', 'playing', 'general', 'brain', 'mine', 'woodcraft', 'mine', 'strength', 'stamina', 'mine', 'chess', 'stake', 'value', 'midnight', 'day', 'sloop', 'mainland', 'town', 'read', 'word', 'gentleman', 'sportsman', 'course', 'turn', 'nothing', 'visit', 'nothing', 'kind', 'case', 'bottle', 'wine', 'air', 'food', 'knife', 'trail', 'swamp', 'corner', 'island', 'quicksand', 'fellow', 'part', 'hound', 'pack', 'siesta', 'lunch', 'time', 'nap', 'doubt', 'till', 'dusk', 'night', 'day', 'revoir', 'revoir', 'bow', 'room', 'door', 'arm', 'hunting', 'haversack', 'food', 'leather', 'sheath', 'hunting', 'knife', 'hand', 'revolver', 'thrust', 'crimson', 'sash', 'waist', 'way', 'bush', 'nerve', 'nerve', 'chateau', 'idea', 'distance', 'end', 'something', 'panic', 'grip', 'stock', 'situation', 'flight', 'face', 'face', 'sea', 'picture', 'frame', 'water', 'place', 'frame', 'trail', 'path', 'trackless', 'wilderness', 'series', 'trail', 'lore', 'fox', 'hunt', 'fox', 'face', 'thickly', 'ridge', 'dark', 'strength', 'need', 'rest', 'fox', 'cat', 'tree', 'trunk', 'care', 'mark', 'crotch', 'fashion', 'confidence', 'feeling', 'security', 'hunter', 'devil', 'trail', 'jungle', 'dark', 'general', 'devil', 'night', 'snake', 'sleep', 'silence', 'world', 'jungle', 'morning', 'dingy', 'gray', 'sky', 'cry', 'bird', 'attention', 'direction', 'bush', 'way', 'limb', 'screen', 'tapestry', 'man', 'way', 'concentration', 'ground', 'tree', 'ground', 'impulse', 'panther', 'general', 'hand', 'something', 'metallic', 'pistol', 'hunter', 'head', 'case', 'smoke', 'breath', 'general', 'ground', 'inch', 'inch', 'tree', 'froze', 'muscle', 'spring', 'hunter', 'limb', 'spread', 'face', 'smoke', 'air', 'back', 'tree', 'trail', 'swish', 'underbrush', 'fainter', 'fainter', 'air', 'trail', 'night', 'trail', 'chance', 'quarry', 'thought', 'shudder', 'horror', 'reason', 'truth', 'sun', 'morning', 'general', 'day', 'sport', 'cat', 'mouse', 'meaning', 'terror', 'nerve', 'tree', 'face', 'machinery', 'mind', 'function', 'place', 'tree', 'sack', 'food', 'knife', 'sheath', 'energy', 'job', 'log', 'cat', 'mouse', 'trail', 'sureness', 'bloodhound', 'blade', 'grass', 'bent', 'twig', 'mark', 'matter', 'faint', 'moss', 'intent', 'stalking', 'thing', 'foot', 'protruding', 'trigger', 'danger', 'agility', 'ape', 'tree', 'cut', 'blow', 'shoulder', 'alertness', 'revolver', 'shoulder', 'fear', 'heart', 'general', 'mocking', 'laugh', 'ring', 'jungle', 'general', 'sound', 'voice', 'mancatcher', 'interesting', 'wound', 'shoulder', 'flight', 'flight', 'desperate', 'flight', 'darkness', 'ground', 'vegetation', 'ranker', 'denser', 'foot', 'ooze', 'muck', 'foot', 'leech', 'effort', 'quicksand', 'nerve', 'something', 'someone', 'darkness', 'grip', 'softness', 'earth', 'idea', 'quicksand', 'dozen', 'prehistoric', 'beaver', 'second', 'delay', 'death', 'placid', 'pastime', 'digging', 'pit', 'point', 'bottom', 'pit', 'carpet', 'mouth', 'pit', 'wet', 'sweat', 'tiredness', 'stump', 'tree', 'pursuer', 'sound', 'earth', 'night', 'breeze', 'perfume', 'general', 'cigarette', 'swiftness', 'way', 'foot', 'foot', 'pit', 'year', 'minute', 'impulse', 'joy', 'crackle', 'breaking', 'cover', 'pit', 'way', 'scream', 'pain', 'mark', 'place', 'concealment', 'pit', 'man', 'torch', 'hand', 'voice', 'tiger', 'pit', 'pack', 'home', 'rest', 'evening', 'daybreak', 'swamp', 'sound', 'fear', 'sound', 'faint', 'wavering', 'baying', 'pack', 'wait', 'moment', 'idea', 'chance', 'belt', 'swamp', 'baying', 'nearer', 'ridge', 'tree', 'watercourse', 'quarter', 'mile', 'bush', 'figure', 'figure', 'jungle', 'forward', 'force', 'pack', 'leash', 'minute', 'mind', 'trick', 'tree', 'hold', 'sapling', 'knife', 'blade', 'trail', 'bit', 'grapevine', 'sapling', 'life', 'scent', 'animal', 'bay', 'breath', 'baying', 'heart', 'knife', 'tree', 'hope', 'brain', 'valley', 'knife', 'recoil', 'springing', 'tree', 'ground', 'pack', 'cry', 'nerve', 'nerve', 'gap', 'gap', 'shore', 'sea', 'cove', 'stone', 'chateau', 'sea', 'sea', 'pack', 'place', 'sea', 'expanse', 'water', 'drink', 'brandy', 'silver', 'flask', 'cigarette', 'bit', 'dinner', 'hall', 'bottle', 'bottle', 'enjoyment', 'thought', 'quarry', 'course', 'game', 'dinner', 'liqueur', 'library', 'ten', 'bedroom', 'moonlight', 'light', 'window', 'courtyard', 'luck', 'time', 'light', 'man', 'bed', 'Rainsford', 'name', 'jungle', 'breath', 'game', 'beast', 'bay', 'voice', 'bows', 'repast', 'bed', 'guard', 'bed']\n"
     ]
    }
   ],
   "source": [
    "nouns = getPOS(\"NN\", mdg)\n",
    "\n",
    "print(nouns)"
   ]
  },
  {
   "cell_type": "markdown",
   "metadata": {},
   "source": [
    "## Chunking"
   ]
  },
  {
   "cell_type": "code",
   "execution_count": null,
   "metadata": {},
   "outputs": [],
   "source": [
    "# How to Read the Grammar below:\n",
    "# Start with an optional (?) determiner ('DT')\n",
    "# Can have any number (*) of adjectives (JJ)\n",
    "# End with a noun (<NN>)\n",
    "grammar = \"NP: {<DT>?<JJ>*<NN>}\"\n",
    "\n",
    "# Instantiate the chunk parser\n",
    "parser = nltk.RegexpParser(grammar)\n",
    "\n",
    "# Run it on our tagged text\n",
    "tree = parser.parse(mdg_tagged)\n",
    "\n",
    "# See some results\n",
    "for i in tree[0:20]:\n",
    "    print(i)"
   ]
  },
  {
   "cell_type": "code",
   "execution_count": null,
   "metadata": {},
   "outputs": [],
   "source": [
    "print(tree[6])"
   ]
  },
  {
   "cell_type": "code",
   "execution_count": null,
   "metadata": {},
   "outputs": [],
   "source": [
    "print(len(tree), tree.height())"
   ]
  },
  {
   "cell_type": "code",
   "execution_count": null,
   "metadata": {},
   "outputs": [],
   "source": [
    "print(tree.treepositions()[0:20])"
   ]
  },
  {
   "cell_type": "code",
   "execution_count": null,
   "metadata": {},
   "outputs": [],
   "source": [
    "NPtrees = [subtree for subtree in tree if type(subtree) == nltk.Tree and subtree.label() == \"NP\"]\n",
    "\n",
    "print(len(NPtrees))\n",
    "print(NPtrees[0:20])"
   ]
  },
  {
   "cell_type": "code",
   "execution_count": null,
   "metadata": {},
   "outputs": [],
   "source": [
    "NPleaves = [subtree.leaves() for subtree in tree if type(subtree) == nltk.Tree and subtree.label() == \"NP\"]\n",
    "\n",
    "print(len(NPleaves))\n",
    "print(NPleaves[0:20])"
   ]
  },
  {
   "cell_type": "code",
   "execution_count": null,
   "metadata": {},
   "outputs": [],
   "source": [
    "for a_list in NPleaves[0:20]:\n",
    "    np = [word for word,tag in a_list]\n",
    "    phrase = \" \".join(np)\n",
    "    print(phrase)"
   ]
  },
  {
   "cell_type": "markdown",
   "metadata": {},
   "source": [
    "### Named Entities\n",
    "\n",
    "You will need to download the named entity chunker first: `nltk.download(\"maxent_ne_chunker\")`.\n",
    "\n",
    "For more on the kinds of named entities: https://www.nltk.org/book/ch07.html#sec-ner."
   ]
  },
  {
   "cell_type": "code",
   "execution_count": null,
   "metadata": {},
   "outputs": [],
   "source": [
    "tree = nltk.ne_chunk(mdg_tagged, binary=True)\n",
    "\n",
    "def extract_ne(text):\n",
    "    # tokenize by word\n",
    "    words = nltk.tokenize.word_tokenize(text)\n",
    "    # apply part of speech tags to those words\n",
    "    tags = nltk.pos_tag(words)\n",
    "    # extract named entities based on those tags\n",
    "    # \"binary=True ==> named entities won’t be labeled by kind\n",
    "    tree = nltk.ne_chunk(tags, binary=True)\n",
    "    ne_set = set(\n",
    "        \" \".join(i[0] for i in t)\n",
    "        for t in tree\n",
    "        if hasattr(t, \"label\") and t.label() == \"NE\"\n",
    "    )\n",
    "    return ne_set"
   ]
  },
  {
   "cell_type": "code",
   "execution_count": null,
   "metadata": {},
   "outputs": [],
   "source": [
    "mdg_ne = extract_ne(mdg)\n",
    "print(mdg_ne)"
   ]
  }
 ],
 "metadata": {
  "celltoolbar": "Slideshow",
  "kernelspec": {
   "display_name": "370",
   "language": "python",
   "name": "python3"
  },
  "language_info": {
   "codemirror_mode": {
    "name": "ipython",
    "version": 3
   },
   "file_extension": ".py",
   "mimetype": "text/x-python",
   "name": "python",
   "nbconvert_exporter": "python",
   "pygments_lexer": "ipython3",
   "version": "3.10.16"
  }
 },
 "nbformat": 4,
 "nbformat_minor": 4
}
