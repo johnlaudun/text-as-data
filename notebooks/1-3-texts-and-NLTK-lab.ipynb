{
 "cells": [
  {
   "cell_type": "markdown",
   "metadata": {
    "editable": true,
    "slideshow": {
     "slide_type": "slide"
    },
    "tags": []
   },
   "source": [
    "# From Files to texts to nltk.Text"
   ]
  },
  {
   "cell_type": "markdown",
   "metadata": {},
   "source": [
    "In the beginning of the first chapter of _[Natural Language Processing with Python](https://www.nltk.org/book/ch01.html)_, the authors have you download and import a number of prepared texts, which the rest of the chapter then uses. We already have a text, so this notebook starts off by importing the `nltk` library and then making it into the particular kind of *Text* that many `nltk` operations expect. For now, simply run the code in the first cell and let it set up Richard Connell's \"The Most Dangerous Game\" as well as Joseph Conrad's _Heart of Darkness_ as two text objects you can then explore.\n",
    "\n",
    "This notebook is designed to allow you to explore the first section of the first chapter, \"Computing with Language: Texts and Words\" in the NLTK book."
   ]
  },
  {
   "cell_type": "markdown",
   "metadata": {},
   "source": [
    "As always, the first thing we do is import and load.\n",
    "\n",
    "Here we are importing the NLTK and then loading two texts, Richard Connell's \"The Most Dangerous Game\" and Joseph Conrad's _Heart of Darkness_. (Conrad's novel was published in 1899, but it features a very similar plot: the protagonist white man encounters another man who has seemingly lost his connection with civilization. (There is a lot to be said about the whiteness that runs through both texts, but that is for a different class.)"
   ]
  },
  {
   "cell_type": "markdown",
   "metadata": {},
   "source": [
    "## Recursion to Words, er, Tokens"
   ]
  },
  {
   "cell_type": "code",
   "execution_count": 1,
   "metadata": {},
   "outputs": [
    {
     "name": "stdout",
     "output_type": "stream",
     "text": [
      "\"Off there to the right -- somewhere -- is a large island,\" said Whitney.\n",
      "\"It's rather a mystery -- \"\n",
      "\"What island is it?\"\n",
      "Rainsford asked.\n",
      "\"The old charts call it 'Ship-Trap Island,'\" Whitney replied.\n",
      "\"A suggestive name, isn't it?\n",
      "Sailors have a curious dread of the place.\n",
      "I don't know why.\n",
      "Some superstition -- \"\n",
      "\"Can't see it,\" remarked Rainsford, trying to peer through the dank tropical night that was palpable as it pressed its thick warm blackness in upon the yacht.\n",
      "\"You've good eyes,\" said Whitney, with a laugh, \"and I've seen you pick off a moose moving in the brown fall bush at four hundred yards, but even you can't see four miles or so through a moonless Caribbean night.\"\n",
      "\"Nor four yards,\" admitted Rainsford.\n"
     ]
    }
   ],
   "source": [
    "# Imports\n",
    "import nltk\n",
    "\n",
    "# Open and read the file to create a string object\n",
    "with open(\"../data/mdg.txt\", mode=\"r\") as f:\n",
    "    mdg_string = f.read()\n",
    "\n",
    "# Testing out sentence tokenizing:\n",
    "mdg_sentences = nltk.tokenize.sent_tokenize(mdg_string)\n",
    "\n",
    "# Let's see some results:\n",
    "for sentence in mdg_sentences[0:10]:\n",
    "    print(sentence)"
   ]
  },
  {
   "cell_type": "code",
   "execution_count": 2,
   "metadata": {},
   "outputs": [
    {
     "name": "stdout",
     "output_type": "stream",
     "text": [
      "``\n",
      "Off\n",
      "there\n",
      "to\n",
      "the\n"
     ]
    }
   ],
   "source": [
    "# And now testing out word tokenizing:\n",
    "mdg_words = nltk.tokenize.word_tokenize(mdg_string)\n",
    "\n",
    "# With the usual check:\n",
    "for word in mdg_words[0:5]:\n",
    "    print(word)"
   ]
  },
  {
   "cell_type": "markdown",
   "metadata": {},
   "source": [
    "It is important to note that we are not getting just words, we are getting whatever our code tells Python is a sub-string we can shove into a list. That is why the double back ticks are showing up in our list. \n",
    "\n",
    "The NLTK's `word_tokenize()` function may or may not align with what you think should be included: that is why it is important to be able to tokenize as you think is appropriate."
   ]
  },
  {
   "cell_type": "markdown",
   "metadata": {},
   "source": [
    "With the basics of tokenization out of the way, let's take a look at how we might count words from within the NLTK. \n",
    "\n",
    "To do this, we are going to use some built-in functionality, frequency distribution, called via `FreqDist()`. Note how we still iterate through out string using a `for` loop. As we did when we created our own dictionary of terms, first we create an empty container and then we fill it. This first time around we do it by sentence.\n",
    "\n",
    "**Note**: I have used a very clear naming convention for my variables (objects)."
   ]
  },
  {
   "cell_type": "code",
   "execution_count": 3,
   "metadata": {},
   "outputs": [
    {
     "data": {
      "text/plain": [
       "2064"
      ]
     },
     "execution_count": 3,
     "metadata": {},
     "output_type": "execute_result"
    }
   ],
   "source": [
    "# Create the object\n",
    "mdg_fd = nltk.FreqDist()\n",
    "\n",
    "# Populate the object\n",
    "for sentence in nltk.tokenize.sent_tokenize(mdg_string):\n",
    "    for word in nltk.tokenize.word_tokenize(sentence):\n",
    "        mdg_fd[word] += 1\n",
    "\n",
    "# Let's see what that count is:\n",
    "len(mdg_fd)"
   ]
  },
  {
   "cell_type": "markdown",
   "metadata": {},
   "source": [
    "That number is very close to the 1974 we got when we created our own dictionary of words. Let's take a look at what's in there:"
   ]
  },
  {
   "cell_type": "code",
   "execution_count": 4,
   "metadata": {},
   "outputs": [
    {
     "data": {
      "text/plain": [
       "[('.', 640),\n",
       " (',', 556),\n",
       " ('the', 439),\n",
       " ('a', 246),\n",
       " ('``', 223),\n",
       " (\"''\", 210),\n",
       " ('I', 178),\n",
       " ('he', 173),\n",
       " ('of', 171),\n",
       " ('and', 155)]"
      ]
     },
     "execution_count": 4,
     "metadata": {},
     "output_type": "execute_result"
    }
   ],
   "source": [
    "mdg_fd.most_common(10)"
   ]
  },
  {
   "cell_type": "markdown",
   "metadata": {},
   "source": [
    "It looks like the difference of 90 tokens can somewhat be explained by punctuation and, and this is a guess, capitalization. (Remember, when we created our dictionary of tokens, we not only dropped all non-letter characters, save the apostrophe, but we also normalized to all lowercase."
   ]
  },
  {
   "cell_type": "code",
   "execution_count": 5,
   "metadata": {},
   "outputs": [
    {
     "data": {
      "text/plain": [
       "1934"
      ]
     },
     "execution_count": 5,
     "metadata": {},
     "output_type": "execute_result"
    }
   ],
   "source": [
    "mdg_fd_alt = nltk.FreqDist()\n",
    "for word in nltk.tokenize.word_tokenize(mdg_string.lower()):\n",
    "        mdg_fd_alt[word] += 1\n",
    "\n",
    "# Let's see what the count is now:\n",
    "len(mdg_fd_alt)"
   ]
  },
  {
   "cell_type": "markdown",
   "metadata": {},
   "source": []
  },
  {
   "cell_type": "markdown",
   "metadata": {},
   "source": [
    "*Oh! Now we have dropped below our earlier count!*\n",
    "\n",
    "Repeat after me: tokenization depends on the analyst preferences. The only thing that really matters here is you have some explanation for why you are tokenizing in this fashion and that you use the same method across your entire set of texts, or *corpus*."
   ]
  },
  {
   "cell_type": "markdown",
   "metadata": {},
   "source": [
    "We can subtract the difference between the using sets. (See, you can math language.)"
   ]
  },
  {
   "cell_type": "code",
   "execution_count": 6,
   "metadata": {},
   "outputs": [
    {
     "name": "stdout",
     "output_type": "stream",
     "text": [
      "{'Rockies', 'So', 'Even', 'Moscow', 'Russian', 'Tomorrow', 'Your', 'Paris', 'That', 'Very', 'Now', 'But', 'Desperately', 'Every', 'Aurelius', 'East', 'Bergere', 'As', 'Bleak', 'Perhaps', 'Be', 'Straining', 'Surely', 'Outdoor', 'Tigers', 'Anyhow', 'Those', 'Lucar', 'mid-Victorian', 'Rainsford', 'Nerve', 'Chambertin', 'Veuve', 'Cliquot', 'Civilized', 'Sea', 'Great', 'Luckily', 'Simply', 'For', 'By', 'Then', 'Tonight', 'Following', 'And', 'Down', 'They', 'Sailors', 'Again', 'Suppose', 'Purdey', 'Doubtless', 'Will', 'God-forsaken', 'Where', 'Splendid', 'Out', 'Burmese', 'Some', 'Mirage', 'Toward', 'Oh', 'American', 'Boredom', 'May', 'Pol', 'Here', 'Chablis', 'Laughter', 'The', 'Last', 'Well', 'English', 'Zaroff', 'San', 'Turkish', 'Hunting', 'Americans', 'Monte', 'Occasionally', 'God', 'Better', 'Instinct', 'Twenty', 'Suzette', 'Another', 'Madame', 'With', 'Ca', 'Ah', 'Guns', 'Czar', 'Butterfly', 'White', 'Folies', 'Do', 'New', 'Cossack', 'Captain', 'Ten', 'Precisely', 'Nonsense', 'Two', 'See', 'Many', 'Caribbean', 'Caucasus', 'It', 'Sleep', 'Sometimes', 'Swam', 'Chinese', 'Mr.', 'One', 'His', 'Puritan', 'From', 'Really', 'Spanish', 'Half', 'About', 'Marcus', 'Malay', 'City', 'Naturally', 'French', 'When', 'Tibet', 'Jagged', 'Pure', 'Hurled', 'Follow', 'Africa', 'After', 'Thank', 'Nielsen', 'Fractured', 'Uganda', 'Providence', 'Right', 'This', 'There', 'Amazon', 'How', 'Carlo', 'Ennui', 'What', 'Rio', 'Cape', 'Three', 'Under', 'Roger', 'America', 'Good', 'He', 'Eagerly', 'Dusk', 'All', 'Dense', 'Turning', 'Somewhere', 'Gasping', 'Dear', 'Why', 'Sanger', 'No', 'Invariably', 'Whitney', 'Watch', 'Always', 'Mr', 'These', 'If', 'Ship', 'Bah', 'Malacca', 'Across', 'Ganges', 'Cannibals', 'Crimea', 'My', 'Something', 'Swede', 'Death', 'Did', 'Rains', 'Come', 'London', 'In', 'To', 'Please', 'Who', 'Ever', 'Hardly', 'Night', 'York', 'Island', 'Ivan', 'Au', 'At', 'An', 'Russia', \"'Ship-Trap\", 'Ugh', 'Me', 'Not', 'Get', 'Throwing', 'Poor', 'Nothing', 'General', 'Lazarus', 'Life', 'Automatically', 'Yes', 'Pistol', 'Sorry', 'Once', 'Trap', 'Whenever', 'Rest', 'On', 'Russians', 'France', 'Of', 'Maybe', 'I', 'Swamp', 'Is', 'Nor', 'A', 'Off', 'We', 'You'}\n"
     ]
    }
   ],
   "source": [
    "mdg_diff = set(mdg_fd) - set(mdg_fd_alt)\n",
    "\n",
    "print(mdg_diff)"
   ]
  },
  {
   "cell_type": "markdown",
   "metadata": {},
   "source": [
    "If you ask Python what kind of data structure freq_dist is,you'll get a rather unhelpful response, but LOOK ABOVE. What do you see?"
   ]
  },
  {
   "cell_type": "code",
   "execution_count": 8,
   "metadata": {},
   "outputs": [
    {
     "name": "stdout",
     "output_type": "stream",
     "text": [
      "<class 'nltk.probability.FreqDist'>\n"
     ]
    },
    {
     "ename": "TypeError",
     "evalue": "unhashable type: 'slice'",
     "output_type": "error",
     "traceback": [
      "\u001b[0;31m---------------------------------------------------------------------------\u001b[0m",
      "\u001b[0;31mTypeError\u001b[0m                                 Traceback (most recent call last)",
      "Cell \u001b[0;32mIn[8], line 5\u001b[0m\n\u001b[1;32m      2\u001b[0m \u001b[38;5;28mprint\u001b[39m(\u001b[38;5;28mtype\u001b[39m(mdg_fd))\n\u001b[1;32m      4\u001b[0m \u001b[38;5;66;03m# What's it look like inside?\u001b[39;00m\n\u001b[0;32m----> 5\u001b[0m \u001b[38;5;28;01mfor\u001b[39;00m i \u001b[38;5;129;01min\u001b[39;00m \u001b[43mmdg_fd\u001b[49m\u001b[43m[\u001b[49m\u001b[38;5;241;43m0\u001b[39;49m\u001b[43m:\u001b[49m\u001b[38;5;241;43m5\u001b[39;49m\u001b[43m]\u001b[49m:\n\u001b[1;32m      6\u001b[0m     \u001b[38;5;28mprint\u001b[39m(i)\n",
      "\u001b[0;31mTypeError\u001b[0m: unhashable type: 'slice'"
     ]
    }
   ],
   "source": [
    "# Let's see what kind of data structure this is:\n",
    "print(type(mdg_fd))\n",
    "\n",
    "# What's it look like inside?\n",
    "for i in mdg_fd[0:5]:\n",
    "    print(i)"
   ]
  },
  {
   "cell_type": "code",
   "execution_count": 9,
   "metadata": {},
   "outputs": [
    {
     "name": "stdout",
     "output_type": "stream",
     "text": [
      ".:  640\n",
      ",:  556\n",
      "the:  439\n",
      "a:  246\n",
      "``:  223\n",
      "'':  210\n",
      "I:  178\n",
      "he:  173\n",
      "of:  171\n",
      "and:  155\n"
     ]
    }
   ],
   "source": [
    "# Treating freqdist as a tuple\n",
    "# And using f-strings to make it easy to print our results\n",
    "for word, frequency in mdg_fd.most_common(10):\n",
    "    print(f\"{word}:  {frequency}\")"
   ]
  },
  {
   "cell_type": "code",
   "execution_count": 10,
   "metadata": {},
   "outputs": [
    {
     "name": "stdout",
     "output_type": "stream",
     "text": [
      "('.', 640) , 0\n",
      "(',', 556) , 0\n",
      "('the', 439) , 0\n",
      "('a', 246) , 0\n",
      "('``', 223) , 0\n"
     ]
    }
   ],
   "source": [
    "# The built-in way to do this:\n",
    "# for token in mdg_fd:\n",
    "#    print(token, ',', mdg_fd[token], '\\n')\n",
    "\n",
    "# If you run the above you will get a LOOOONNNG list.\n",
    "# So we are going to go for the shorter version:\n",
    "for token in mdg_fd.most_common(5):\n",
    "    print(token, ',', mdg_fd[token])"
   ]
  },
  {
   "cell_type": "markdown",
   "metadata": {},
   "source": [
    "The code above exposes functionality we can use, namely `mdg_fd[token]`. Let's try it out with a word we know is in our text."
   ]
  },
  {
   "cell_type": "code",
   "execution_count": 11,
   "metadata": {},
   "outputs": [
    {
     "data": {
      "text/plain": [
       "11"
      ]
     },
     "execution_count": 11,
     "metadata": {},
     "output_type": "execute_result"
    }
   ],
   "source": [
    "mdg_fd[\"hunter\"]"
   ]
  },
  {
   "cell_type": "markdown",
   "metadata": {},
   "source": [
    "That suggests that we could develop a list of words (tokens!) in which we are interested and get back their counts."
   ]
  },
  {
   "cell_type": "code",
   "execution_count": 12,
   "metadata": {},
   "outputs": [
    {
     "name": "stdout",
     "output_type": "stream",
     "text": [
      "hunter , 11\n",
      "hunted , 4\n",
      "hunts , 0\n",
      "hunting , 24\n",
      "hunt , 18\n"
     ]
    }
   ],
   "source": [
    "# First, a list of words:\n",
    "words = [\"hunter\", \"hunted\", \"hunts\", \"hunting\", \"hunt\"]\n",
    "\n",
    "# Now to try out our functinality:\n",
    "for word in words:\n",
    "    print(word, \",\", mdg_fd[word])"
   ]
  },
  {
   "cell_type": "markdown",
   "metadata": {},
   "source": [
    "This does seem rather repetitive, sicne we had to include 5 different forms of the same word. There is a way to reduce words to their *lemma*s, and we will explore that a little later in the course."
   ]
  },
  {
   "cell_type": "code",
   "execution_count": 13,
   "metadata": {},
   "outputs": [
    {
     "data": {
      "text/plain": [
       "<Axes: xlabel='Samples', ylabel='Counts'>"
      ]
     },
     "execution_count": 13,
     "metadata": {},
     "output_type": "execute_result"
    },
    {
     "data": {
      "image/png": "[encoded data removed]",
      "text/plain": [
       "<Figure size 640x480 with 1 Axes>"
      ]
     },
     "metadata": {},
     "output_type": "display_data"
    }
   ],
   "source": [
    "# freq_dist comes with a lot of functionality\n",
    "# (See Table 3.1 in Chapter 1 of the NLTK book for more ideas.)\n",
    "mdg_fd.plot()"
   ]
  },
  {
   "cell_type": "markdown",
   "metadata": {},
   "source": [
    "## Creating and Working with an NLTK `Text`"
   ]
  },
  {
   "cell_type": "markdown",
   "metadata": {},
   "source": [
    "You can do more than simply count words, though as we will see over the next few modules there is a lot you can do with frequencies. *A lot.* You can also look at where words occur in a text, both locally and globally. We will start with locals, using something called *Key Word in Context* (aka KWiC), which the NLTK makes available through the `concordance` function."
   ]
  },
  {
   "cell_type": "code",
   "execution_count": null,
   "metadata": {},
   "outputs": [],
   "source": [
    "# First, we re-create our token list\n",
    "# and we include lowercasing our text\n",
    "# And now testing out word tokenizing:\n",
    "mdg_tokens = nltk.tokenize.word_tokenize(mdg_string)\n",
    "\n",
    "# Now we create our Text object\n",
    "mdg_text = nltk.Text(mdg_tokens)"
   ]
  },
  {
   "cell_type": "code",
   "execution_count": null,
   "metadata": {},
   "outputs": [],
   "source": [
    "mdg_text.concordance(\"eyes\")"
   ]
  },
  {
   "cell_type": "code",
   "execution_count": null,
   "metadata": {},
   "outputs": [],
   "source": [
    "mdg_text.similar(\"eyes\")"
   ]
  },
  {
   "cell_type": "markdown",
   "metadata": {},
   "source": [
    "**Note**: The authors introduce `concordance`, `similar`, `common_context`, `dispersion_plot`, and `generate` in this section. I have done concordance for you. Try a few words in concordance: you can do it in the same cell or in a series of cells, then do the same with the other functions. \n",
    "\n",
    "When you get to the dispersion plot, please note that, as the authors warn, you have to have other Python libraries installed for it to work. \n",
    "\n",
    "Try moving back and forth between concordance and dispersion to see how much you can narrow in on the meaning of \"The Most Dangerous Game\" through finding the contexts / placement of 4-6 \"key words.\" (Oh how the notion of \"key\" is going to haunt us!)"
   ]
  },
  {
   "cell_type": "code",
   "execution_count": null,
   "metadata": {},
   "outputs": [],
   "source": [
    "mdg.concordance(\"knife\")"
   ]
  },
  {
   "cell_type": "markdown",
   "metadata": {},
   "source": [
    "As you work through the rest of the section, try to practice two things: using markdown cells like this one to narrate what you are doing and then `# comments` in your code that describe what a line (or cluster of lines) do. For those still or somewhat new to Python, it's a language that \"likes\" white space and many pythonistas prefer things more vertical than horizontal.\n",
    "\n",
    "That is, you could do this:\n",
    "```python\n",
    "hod = nltk.Text(nltk.tokenize.word_tokenize(open('../data/hod.txt', 'r').read()))\n",
    "```\n",
    "\n",
    "but many would consider that approaching \"unreadable\" and would frown on it. \n",
    "\n",
    "For our purposes, codes that is easier to read is better than code that is more compact. We are using code to *explore* human language and not (yet) building any kind of infrastructure where efficiency and compactness are more important than legibility and reproducibility."
   ]
  },
  {
   "cell_type": "code",
   "execution_count": null,
   "metadata": {},
   "outputs": [],
   "source": [
    "# Your first code cell...\n",
    "mdg.similar(\"knife\")"
   ]
  },
  {
   "cell_type": "code",
   "execution_count": null,
   "metadata": {},
   "outputs": [],
   "source": [
    "mdg.dispersion_plot([\"cossack\", \"knife\", \"bed\"])"
   ]
  },
  {
   "cell_type": "code",
   "execution_count": null,
   "metadata": {},
   "outputs": [],
   "source": [
    "mdg.count(\"Rainsford\")"
   ]
  },
  {
   "cell_type": "markdown",
   "metadata": {
    "jp-MarkdownHeadingCollapsed": true
   },
   "source": [
    "## Comparing Texts"
   ]
  },
  {
   "cell_type": "code",
   "execution_count": null,
   "metadata": {},
   "outputs": [],
   "source": []
  },
  {
   "cell_type": "code",
   "execution_count": null,
   "metadata": {},
   "outputs": [],
   "source": []
  },
  {
   "cell_type": "markdown",
   "metadata": {},
   "source": [
    "Hold for now."
   ]
  },
  {
   "cell_type": "code",
   "execution_count": null,
   "metadata": {
    "editable": true,
    "slideshow": {
     "slide_type": "fragment"
    },
    "tags": []
   },
   "outputs": [],
   "source": [
    "# Create a list of substrings, aka words\n",
    "mdg_tokens = nltk.tokenize.word_tokenize(mdg_string.lower())\n",
    "\n",
    "# Create the NLTK Text object\n",
    "mdgText = nltk.Text(mdg_words)\n",
    "\n",
    "# Repeat the 3 steps for \"Heart of Darkness\"\n",
    "with open(\"../data/hod.txt\", mode=\"r\") as f:\n",
    "    hod_string = f.read()\n",
    "    \n",
    "hod_words = nltk.tokenize.word_tokenize(hod_string.lower())\n",
    "\n",
    "hodText = nltk.Text(hod_words)\n",
    "\n",
    "# Check our output and compare lengths\n",
    "print(len(mdg), len(hod))"
   ]
  },
  {
   "cell_type": "markdown",
   "metadata": {},
   "source": [
    "We have a long-ish short story of almost ten thousand words, and short-ish novel of forty-six thousand words. How can we go about comparing them? \n",
    "\n",
    "One place to start is to get a sense of the total number of unique words. For that we are going to use Python `set()` function."
   ]
  },
  {
   "cell_type": "code",
   "execution_count": null,
   "metadata": {},
   "outputs": [],
   "source": [
    "# This is a long list:\n",
    "print(len(set(mdg)), len(set(hod)))"
   ]
  },
  {
   "cell_type": "markdown",
   "metadata": {},
   "source": [
    "If we do the math, _Heart of Darkness_, which is four and a half time longer than \"The Most Dangerous Game,\" only uses three times the number of words. Interesting. Let's store that information away for further exploration. "
   ]
  },
  {
   "cell_type": "code",
   "execution_count": null,
   "metadata": {},
   "outputs": [],
   "source": [
    "def lex_div (text):\n",
    "    lexdiv =len(set(text)) / len(text)\n",
    "    return lexdiv\n"
   ]
  },
  {
   "cell_type": "code",
   "execution_count": null,
   "metadata": {},
   "outputs": [],
   "source": [
    "lex_div(mdg)"
   ]
  },
  {
   "cell_type": "code",
   "execution_count": null,
   "metadata": {},
   "outputs": [],
   "source": [
    "lex_div(hod)"
   ]
  },
  {
   "cell_type": "code",
   "execution_count": null,
   "metadata": {},
   "outputs": [],
   "source": [
    "len(set(hod))/len(set(mdg))"
   ]
  }
 ],
 "metadata": {
  "kernelspec": {
   "display_name": "Python 3 (ipykernel)",
   "language": "python",
   "name": "python3"
  },
  "language_info": {
   "codemirror_mode": {
    "name": "ipython",
    "version": 3
   },
   "file_extension": ".py",
   "mimetype": "text/x-python",
   "name": "python",
   "nbconvert_exporter": "python",
   "pygments_lexer": "ipython3",
   "version": "3.10.16"
  }
 },
 "nbformat": 4,
 "nbformat_minor": 4
}
