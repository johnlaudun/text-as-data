{
 "cells": [
  {
   "cell_type": "markdown",
   "metadata": {
    "editable": true,
    "slideshow": {
     "slide_type": "slide"
    },
    "tags": []
   },
   "source": [
    "# From Files to texts to nltk.Text"
   ]
  },
  {
   "cell_type": "markdown",
   "metadata": {},
   "source": [
    "In the beginning of the first chapter of _[Natural Language Processing with Python](https://www.nltk.org/book/ch01.html)_, the authors have you download and import a number of prepared texts, which the rest of the chapter then uses. We already have a text, so this notebook starts off by importing the `nltk` library and then making it into the particular kind of *Text* that many `nltk` operations expect. For now, simply run the code in the first cell and let it set up Richard Connell's \"The Most Dangerous Game\" as well as Joseph Conrad's _Heart of Darkness_ as two text objects you can then explore.\n",
    "\n",
    "This notebook is designed to allow you to explore the first section of the first chapter, \"Computing with Language: Texts and Words\" in the NLTK book. That is all that is due for next time. We will work through the rest of the chapter next week."
   ]
  },
  {
   "cell_type": "code",
   "execution_count": 1,
   "metadata": {
    "editable": true,
    "slideshow": {
     "slide_type": "fragment"
    },
    "tags": []
   },
   "outputs": [
    {
     "name": "stdout",
     "output_type": "stream",
     "text": [
      "9941 45946\n"
     ]
    }
   ],
   "source": [
    "# Imports\n",
    "import re\n",
    "import nltk\n",
    "\n",
    "# Open and read the file to create a string object\n",
    "mdg_string = open('../data/mdg.txt', 'r').read()\n",
    "# Create a list of substrings, aka words\n",
    "mdg_words = nltk.tokenize.word_tokenize(mdg_string.lower())\n",
    "# Create the NLTK Text object\n",
    "mdg = nltk.Text(mdg_words)\n",
    "\n",
    "# Repeat for \"Heart of Darkness\"\n",
    "hod_string = open('../data/hod.txt', 'r').read()\n",
    "hod_words = nltk.tokenize.word_tokenize(hod_string.lower())\n",
    "hod = nltk.Text(hod_words)\n",
    "\n",
    "# Check our output and compare lengths\n",
    "print(len(mdg), len(hod))"
   ]
  },
  {
   "cell_type": "markdown",
   "metadata": {},
   "source": [
    "## Searching Text\n",
    "\n",
    "The authors introduce `concordance`, `similar`, `common_context`, `dispersion_plot`, and `generate` in this section. I have done concordance for you. Try a few words in concordance: you can do it in the same cell or in a series of cells, then do the same with the other functions. \n",
    "\n",
    "When you get to the dispersion plot, please note that, as the authors warn, you have to have other Python libraries installed for it to work. If you can't get it to work, don't worry about it: we will get that working in class. If you can get it to work, try moving back and forth between concordance and dispersion to see how much you can narrow in on the meaning of \"The Most Dangerous Game\" through finding the contexts / placement of 4-6 \"key words.\" (Oh how the notion of \"key\" is going to haunt us!)"
   ]
  },
  {
   "cell_type": "code",
   "execution_count": 2,
   "metadata": {},
   "outputs": [
    {
     "name": "stdout",
     "output_type": "stream",
     "text": [
      "Displaying 7 of 7 matches:\n",
      " asked . `` tigers ? '' the general smiled . `` no , '' he said . `` hunting t\n",
      "o , '' said rainsford . the general smiled . `` i had no wish to go to pieces \n",
      " . `` and that was ? '' the general smiled the quiet smile of one who has face\n",
      "e 'll visit my training school , '' smiled the general . `` it 's in the cella\n",
      "e . if i find him '' -- the general smiled -- `` he loses . '' `` suppose he r\n",
      "s whole being . why had the general smiled ? why had he turned back ? rainsfor\n",
      "he general sucked in his breath and smiled . `` i congratulate you , '' he sai\n"
     ]
    }
   ],
   "source": [
    "mdg.concordance(\"smiled\")"
   ]
  },
  {
   "cell_type": "markdown",
   "metadata": {},
   "source": [
    "As you work through the rest of the section, try to practice two things: using markdown cells like this one to narrate what you are doing and then `# comments` in your code that describe what a line (or cluster of lines) do. For those still or somewhat new to Python, it's a language that \"likes\" white space and many pythonistas prefer things more vertical than horizontal.\n",
    "\n",
    "That is, you could do this:\n",
    "```python\n",
    "hod = nltk.Text(nltk.tokenize.word_tokenize(open('../data/hod.txt', 'r').read()))\n",
    "```\n",
    "\n",
    "but many would consider that approaching \"unreadable\" and would frown on it. \n",
    "\n",
    "For our purposes, codes that is easier to read is better than code that is more compact. We are using code to *explore* human language and not (yet) building any kind of infrastructure where efficiency and compactness are more important than legibility and reproducibility.\n",
    "\n",
    "If you are new to markdown, GitHub has a short [guide](https://docs.github.com/en/get-started/writing-on-github/getting-started-with-writing-and-formatting-on-github/basic-writing-and-formatting-syntax)."
   ]
  },
  {
   "cell_type": "code",
   "execution_count": 3,
   "metadata": {},
   "outputs": [
    {
     "name": "stdout",
     "output_type": "stream",
     "text": [
      "zaroff have as but so if face here explained russian nodded blandly\n"
     ]
    }
   ],
   "source": [
    "# Your first code cell...\n",
    "mdg.similar(\"smiled\")"
   ]
  },
  {
   "cell_type": "code",
   "execution_count": 4,
   "metadata": {},
   "outputs": [
    {
     "data": {
      "image/png": "[encoded data removed]",
      "text/plain": [
       "<Figure size 640x480 with 1 Axes>"
      ]
     },
     "metadata": {},
     "output_type": "display_data"
    }
   ],
   "source": [
    "mdg.dispersion_plot([\"cossack\", \"knife\", \"bed\"])"
   ]
  },
  {
   "cell_type": "code",
   "execution_count": 5,
   "metadata": {},
   "outputs": [
    {
     "data": {
      "text/plain": [
       "['!',\n",
       " \"'\",\n",
       " \"''\",\n",
       " \"'d\",\n",
       " \"'ll\",\n",
       " \"'m\",\n",
       " \"'re\",\n",
       " \"'s\",\n",
       " \"'ship-trap\",\n",
       " \"'ve\",\n",
       " ',',\n",
       " '--',\n",
       " '.',\n",
       " '...',\n",
       " '.the',\n",
       " ':',\n",
       " ';',\n",
       " '?',\n",
       " '`',\n",
       " '``']"
      ]
     },
     "execution_count": 5,
     "metadata": {},
     "output_type": "execute_result"
    }
   ],
   "source": [
    "# This is a long list, so just the first 20 items for now\n",
    "sorted(set(mdg))[0:20]"
   ]
  },
  {
   "cell_type": "code",
   "execution_count": 6,
   "metadata": {},
   "outputs": [
    {
     "data": {
      "text/plain": [
       "0"
      ]
     },
     "execution_count": 6,
     "metadata": {},
     "output_type": "execute_result"
    }
   ],
   "source": [
    "mdg.count(\"Rainsford\")"
   ]
  },
  {
   "cell_type": "code",
   "execution_count": 7,
   "metadata": {},
   "outputs": [],
   "source": [
    "def lex_div (text):\n",
    "    lexdiv =len(set(text)) / len(text)\n",
    "    return lexdiv\n"
   ]
  },
  {
   "cell_type": "code",
   "execution_count": 8,
   "metadata": {},
   "outputs": [
    {
     "data": {
      "text/plain": [
       "0.19454783221003924"
      ]
     },
     "execution_count": 8,
     "metadata": {},
     "output_type": "execute_result"
    }
   ],
   "source": [
    "lex_div(mdg)"
   ]
  },
  {
   "cell_type": "code",
   "execution_count": 9,
   "metadata": {},
   "outputs": [
    {
     "data": {
      "text/plain": [
       "0.12353632525138206"
      ]
     },
     "execution_count": 9,
     "metadata": {},
     "output_type": "execute_result"
    }
   ],
   "source": [
    "lex_div(hod)"
   ]
  }
 ],
 "metadata": {
  "kernelspec": {
   "display_name": "Python 3 (ipykernel)",
   "language": "python",
   "name": "python3"
  },
  "language_info": {
   "codemirror_mode": {
    "name": "ipython",
    "version": 3
   },
   "file_extension": ".py",
   "mimetype": "text/x-python",
   "name": "python",
   "nbconvert_exporter": "python",
   "pygments_lexer": "ipython3",
   "version": "3.11.7"
  }
 },
 "nbformat": 4,
 "nbformat_minor": 4
}
