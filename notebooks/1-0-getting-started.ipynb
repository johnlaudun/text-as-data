{
 "cells": [
  {
   "cell_type": "markdown",
   "id": "54e4d6b9-d229-4a8b-886f-23fe63df9dbd",
   "metadata": {},
   "source": [
    "# Getting Started"
   ]
  },
  {
   "cell_type": "markdown",
   "id": "a5ada16c-11ae-46ec-ba30-82bbf31c36fb",
   "metadata": {},
   "source": [
    "Hello there. Welcome to Introduction to Text Analytics. For many of you, there is a fair amount of infrastructure we need to build in order for us to get work done. The good news is:\n",
    "\n",
    "- Once we are done, you will not have to deal with much of it again. A lot of things will simply become *routine* for you.\n",
    "- We are working the way people out in the world work: using common, open source tools like Python and Git and using the leading platform for Git, GitHub, which is now owned by Microsoft and thus there is plenty of integration with Office. (You can lament the fact that Office is the mainstream productivity suite, but it is what it is.)\n",
    "\n",
    "We need to make sure you have:\n",
    "\n",
    "1. a GitHub account\n",
    "2. GitHub desktop installed\n",
    "3. your GitHub repos located appropriately on your machine\n",
    "\n",
    "In addition, you need to have:\n",
    "\n",
    "1. **mini conda** installed\n",
    "2. an environment set up that uses Python 3.11\n",
    "3. the ability to set that as your working environment\n",
    "\n",
    "This last bit may require some editing of bash/Z-shell (macOS) or command shell (Windows) config files."
   ]
  },
  {
   "cell_type": "markdown",
   "id": "71fac6f6-6ff9-4f15-b4f4-475281f94b98",
   "metadata": {},
   "source": [
    "## Setting Up Our Environment"
   ]
  },
  {
   "cell_type": "markdown",
   "id": "fb3a45ae-e69e-4d6a-8ab0-9b11a1e030a0",
   "metadata": {},
   "source": [
    "One of the first things you are going to do with your conda environment dedicated to this class is install Jupyter Lab and the NLTK. It used to be you had to install a lot of other libraries/modules first, but the genius of **conda** is that it handles all that for us: we tell it what we want to install and it tells us what also needs to be install. We type **Y** to make it so, and conda sets about doing all the work.\n",
    "\n",
    "So, first, let's create an environment in which we will work: this will allow us not to mess with the base installation of conda, so if anything goes wrong, and things will go wrong, we don't have to start completely over. We will only have to create another environment (feeling free to delete the old environment if you like). "
   ]
  },
  {
   "cell_type": "markdown",
   "id": "e1e0990d-5ecf-4426-94ba-34596f4f55ab",
   "metadata": {},
   "source": [
    "First, a quick note: this is a Jupyter Lab notebook (from here on simply *notebook*), which displays readily as a web page on GitHub and is also downloadable by you for you to interact with offline. If you click to the left of a paragraph, you will see the cell within which it is located. \n",
    "\n",
    "There are two kinds of cells in a notebook, text cells like this one which can, and should be, formatted using [markdown](https://www.markdownguide.org/cheat-sheet/) and code cells like the one below, which allow you to write and run code.\n",
    "\n",
    "*If you are looking at this notebook on your own machine, you can double-click any cell to enter edit mode. (There are also a lot of keyboard shortcuts available: look under the notebook's help tab for more.)*"
   ]
  },
  {
   "cell_type": "code",
   "execution_count": 1,
   "id": "73208269-707b-49b5-a8c5-5e0adef79141",
   "metadata": {},
   "outputs": [
    {
     "data": {
      "text/plain": [
       "str"
      ]
     },
     "execution_count": 1,
     "metadata": {},
     "output_type": "execute_result"
    }
   ],
   "source": [
    "# And this is a code cell.\n",
    "# Anything you don't want to run needs to be a comment.\n",
    "# Comments in Python begin with a hash character\n",
    "# Longer ones should sit on lines by themselves\n",
    "# (and be no longer than 80 characters)\n",
    "\n",
    "# Short comments can go at the end of a line of code:\n",
    "mdg = open('../data/mdg.txt', 'r').read() # Open and read a file\n",
    "\n",
    "type(mdg) # Find out what kind of object it is"
   ]
  },
  {
   "cell_type": "markdown",
   "id": "c2b9e3c2-e7c8-4ce7-a64e-cb40dee73dd9",
   "metadata": {},
   "source": [
    "If you run the file above, you will get the same output as I did.\n",
    "\n",
    "While we're not ready to run code just yet, you now see how easy it is to mix code and text in a notebook."
   ]
  },
  {
   "cell_type": "markdown",
   "id": "7091c994-7f44-4b18-b135-2ca74f3627dd",
   "metadata": {},
   "source": [
    "## Setting Up an Environment"
   ]
  },
  {
   "cell_type": "markdown",
   "id": "bde5c938-64fc-4088-bc62-02537e142635",
   "metadata": {},
   "source": [
    "Once you've installed [mini conda](https://docs.conda.io/projects/conda/en/latest/index.html), setting up an environment couldn't be easier. From the command line, do this:\n",
    "\n",
    "```bash\n",
    "conda create --name 370 python=3.10\n",
    "```\n",
    "\n",
    "The way to read this line is as follows:\n",
    "\n",
    "- **`conda`** tells the shell to run the conda program\n",
    "- **`create`** tells the conda program that we are creating a virtual environment\n",
    "- **`--name`** tells conda the name of the environment\n",
    "- **`370`** is the name we are going to use (You can choose any name you like--I use \"370\" because it's the course number, that's all.)\n",
    "- **`python=3.10`** tells conda what version of Python we want installed in this environment.\n",
    "\n",
    "We now have two installations of Python within conda, in addition to any version of Python installed in the system itself. \n",
    "\n",
    "**Why so many versions of Python?**\n",
    "\n",
    "First, we never want to mess with the system version of Python. Nope. Nah ah. Never. We don't know what else within the system depends on that, so working with that installation risks messing with the operating system itself. No thank you.\n",
    "\n",
    "Second, we want to keep the `base` version of conda as is: it is after all how we manage everything else, and since none of these installations take up much room -- usually less than a 1GB -- it's okay to have multiple versions. \n",
    "\n",
    "**Why Python 3.10 when the newest version of 3.13?**\n",
    "\n",
    "First, the cutting edge is the cutting edge: it will cut you. \n",
    "\n",
    "Second, it has been my experience that a number of the libraries with which we will be working, especially toward the ends of the semester, are not yet updated to be compatible with the cutting edge. For now, **3.10** seems like a happy middle ground. (This could change during the semester, so we may be creating a new environment to keep up with the ever-shifting software landscape.)"
   ]
  },
  {
   "cell_type": "markdown",
   "id": "c3652cf1-3f2d-4655-b85e-acf197789067",
   "metadata": {},
   "source": [
    "You can get a list of your environment witht the following command:\n",
    "\n",
    "```bash\n",
    "(base) ~ % conda env list\n",
    "```\n",
    "\n",
    "Conda returns the following on my machine:\n",
    "\n",
    "```bash\n",
    "# conda environments:\n",
    "#\n",
    "base                  *  /Users/jl/miniconda3\n",
    "310                      /Users/jl/miniconda3/envs/310\n",
    "311                      /Users/jl/miniconda3/envs/311\n",
    "370                      /Users/jl/miniconda3/envs/370\n",
    "DEV                      /Users/jl/miniconda3/envs/DEV\n",
    "TED                      /Users/jl/miniconda3/envs/TED\n",
    "```\n",
    "\n",
    "You can see from that listing that I keep a couple of environments around for testing functionality with versions of Python, one for this class, and then two more for particular projects."
   ]
  },
  {
   "cell_type": "markdown",
   "id": "eecdad5e-1593-4252-ad35-6f3838ba8202",
   "metadata": {},
   "source": [
    "## Activate Your Environment"
   ]
  },
  {
   "cell_type": "markdown",
   "id": "0466237f-c4e8-47bd-818a-e2686943cbae",
   "metadata": {},
   "source": [
    "To work within a particular environment, you simply need to enter the following command:\n",
    "\n",
    "```bash\n",
    "conda activate 370\n",
    "```\n",
    "\n",
    "That's it. You will now see a different preface before your prompt:\n",
    "\n",
    "```\n",
    "(370) ~ %\n",
    "```\n",
    "\n",
    "If you had not noticed the `(base)` preference before, note it now. (The **`%`** sign you see above, and you may occasionally see in other notebooks when I am refering to the command line is simply my preferred cursor. Other systems may use a dollar sign, `$`, or some other symbol. I am old enough that the standard Unix command line prompt was the percent sign, `%`, and that distinguished it from the VAX command line, which was the dollar sign. (Yes, I'm that old.)"
   ]
  },
  {
   "cell_type": "markdown",
   "id": "b3483e47-a9b8-4062-a17f-124cb4d34a63",
   "metadata": {},
   "source": [
    "## Editing Your Configuration File"
   ]
  },
  {
   "cell_type": "markdown",
   "id": "ac6d886b-0b17-4e85-9c61-905f2eb1c149",
   "metadata": {},
   "source": [
    "As it is now, every time you log into your computer and want to work on materials for this class you will, after you open your terminal or command shell, need to activate the 370 environment. That's not terrible, given how simple it is, but you can also set it up so that that gets done for you."
   ]
  },
  {
   "cell_type": "markdown",
   "id": "04e74bc7-fc96-480c-8f9f-4fa3b1479d7b",
   "metadata": {},
   "source": [
    "## Getting Help"
   ]
  },
  {
   "cell_type": "markdown",
   "id": "7fde8f57-8ff6-4dc0-b986-6eacaddb5916",
   "metadata": {},
   "source": [
    "This class does not forbid the use of ChatGPT or any other of the LLMs (large language models). You are free to use them, but you should know that the answers to more complex problems are often useless. That is, an LLM is only as good as the code it has ingested, and there is a lot of bad code out there. \n",
    "\n",
    "The other problem with LLMs is that if they do in fact give you a useful answer, you don't necessarily understand how they arrived at that particular code. Again, this is going to impede you being able to write more complex kinds of code later in the course. \n",
    "\n",
    "What are your alternatives?\n",
    "\n",
    "First, let's begin with something that Americans hate, *reading the directions*. Almost all of the software we will be using this semester comes with *documentation*:\n",
    "\n",
    "- [Python](https://docs.python.org/3.10/) has it. (Link is to 3.10 version.)\n",
    "- [Conda](https://docs.conda.io/projects/conda/en/latest/index.html) has it.\n",
    "- [GitHub](https://docs.github.com/en) has it.\n",
    "\n",
    "Almost every single one of the Python libraries, like the NLTK, also has documentation. \n",
    "\n",
    "In some cases, the documentation isn't helpful because you don't know what question you are trying to answer. Web searches will often turn up the term you need to use. And, when in doubt, I often turn to [StackOverflow][]. Be forewarned: search SO before asking a question, and if you ask a question, make sure you show what you have tried. The denizens of SO are very helpful, but they do look askance at people who have not yet tried to help themselves. \n",
    "\n",
    "[StackOverflow]: https://stackoverflow.com"
   ]
  }
 ],
 "metadata": {
  "kernelspec": {
   "display_name": "Python 3 (ipykernel)",
   "language": "python",
   "name": "python3"
  },
  "language_info": {
   "codemirror_mode": {
    "name": "ipython",
    "version": 3
   },
   "file_extension": ".py",
   "mimetype": "text/x-python",
   "name": "python",
   "nbconvert_exporter": "python",
   "pygments_lexer": "ipython3",
   "version": "3.11.9"
  }
 },
 "nbformat": 4,
 "nbformat_minor": 5
}
